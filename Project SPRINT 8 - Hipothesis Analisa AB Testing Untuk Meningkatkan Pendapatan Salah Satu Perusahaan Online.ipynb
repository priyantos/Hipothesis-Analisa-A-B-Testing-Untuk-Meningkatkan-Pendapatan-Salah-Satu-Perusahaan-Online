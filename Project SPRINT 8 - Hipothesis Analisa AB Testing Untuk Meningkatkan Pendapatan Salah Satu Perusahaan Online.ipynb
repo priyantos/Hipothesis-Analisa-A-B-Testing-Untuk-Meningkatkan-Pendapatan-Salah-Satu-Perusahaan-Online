{
 "cells": [
  {
   "cell_type": "markdown",
   "metadata": {},
   "source": [
    "# Hipothesis, Analisa A/B Testing Untuk Meningkatkan Pendapatan Salah Satu Perusahaan Online"
   ]
  },
  {
   "cell_type": "markdown",
   "metadata": {},
   "source": [
    "**Pendahuluan <a id='intro'></a>**\n",
    "\n",
    "Dalam project ini, saya bersama dengan tim pemasaran akan menyusun daftar hipotesis untuk membantu meningkatkan pendapatan salah satu Perusahaan Online. Tugas utama saya dalam Project adalah melakukan pemilahan dan prioritisasi terhadap hipotesis-hipotesis tersebut. Dengan menganalisa secara terstruktur, saya akan mengeksplorasi data, merumuskan hipotesis, dan menganalisa A/B Testing dan mengambil kesimpulan berdasarkan temuan saya. Proyek ini bertujuan untuk meningkatkan pendapatan dari salah satu perusahaan online.\n",
    "\n",
    "**Tujuan:**\n",
    "\n",
    "Project ini bertujuan untuk secara singkat meningkatkan pendapatan perusahaan online dengan melakukan pemilahan, prioritisasi, dan pengujian hipotesis melalui A/B testing serta membantu tim pemasaran guna meningkatkan pendapatan dari salah satu perusahaan online. Saya berharap melalui hasil analisis ini dapat mengidentifikasi strategi pemasaran yang efektif dan optimal untuk meningkatkan kinerja perusahaan online secara keseluruhan. \n",
    "\n",
    "Berikut rincian yang akan kita lewati:\n",
    "\n",
    "**Tahapan yang Dilakukan**\n",
    "\n",
    "**Langkah 1: Insialisasi**\n",
    "\n",
    "- Memanggil data library yang dibutuhkan\n",
    "\n",
    "  - *List library yang digunakan*\n",
    "  \n",
    "     * import pandas as pd\n",
    "     * import matplotlib.pyplot as plt\n",
    "     * import seaborn as sns\n",
    "     * import numpy as np\n",
    "     * from datetime import datetime, timedelta\n",
    "     * from scipy import stats\n",
    "     * from scipy.stats import levene, shapiro, ttest_ind, mannwhitneyu\n",
    "     \n",
    "\n",
    "**Langkah 2: Memuat Dataset**\n",
    "\n",
    "* `/datasets/hypotheses_us.csv`\n",
    "* `/datasets/orders_us.csv`\n",
    "* `/datasets/visits_us.csv`\n",
    "\n",
    "**Langkah 3: Melakukan Tahapan Hipothesis**\n",
    "\n",
    "**3.1.** Memprioritaskan Hipotesis File `hypotheses_us.csv` memuat sembilan hipotesis untuk meningkatkan pendapatan perusahaan online dengan Reach, Impact, Confidence, dan Effort yang sudah ditentukan untuk masing-masing hipotesis. dengan tugas yang akan saya lakukan adalah:\n",
    "\n",
    "  **3.1.1.** Menerapkan framework ICE untuk memprioritaskan hipotesis. Urutkan hipotesis tersebut dalam urutan prioritas menurun.\n",
    "  \n",
    "  **3.1.2.** Menerapkan framework RICE untuk memprioritaskan hipotesis. Urutkan hipotesis tersebut dalam urutan prioritas menurun.\n",
    "  \n",
    "  **3.1.3.** Menunjukkan perubahan prioritas hipotesis saat RICE diterapkan untuk menggantikan ICE. Berikan penjelasan terkait perubahan tersebut.\n",
    "  \n",
    "&nbsp;\n",
    "\n",
    "**3.2.** Analisis A/B Testing Melakukan A/B testing dan mendapatkan hasil seperti yang dideskripsikan dalam file  `orders_us.csv`dan `visitors_us.csv`. Berikut sub bab yang akan dilakukan:\n",
    "\n",
    "  **3.2.1.**  Gambarkan pendapatan kumulatif berdasarkan kelompok. Buat kesimpulan dan asumsinya.\n",
    "  \n",
    "  **3.2.2.**  Gambarkan ukuran pesanan rata-rata kumulatif berdasarkan kelompok. Buat kesimpulan dan asumsinya.\n",
    "    \n",
    "  **3.2.3.**  Gambarkan perbedaan relatif untuk ukuran pesanan rata-rata kumulatif kelompok B yang dibandingkan dengan kelompok A. Buat kesimpulan dan asumsinya.\n",
    "  \n",
    "  **3.2.4.**  Gambarkan konversi kumulatif berdasarkan kelompok. Buat kesimpulan dan asumsinya.\n",
    "  \n",
    "  **3.2.5.**  Gambarkan perbedaan relatif untuk tingkat konversi kumulatif kelompok B yang dibandingkan dengan kelompok A. Buat kesimpulan dan asumsinya.\n",
    "  \n",
    "  **3.2.6.**  Hitung tingkat konversi setiap kelompok sebagai rasio pesanan terhadap jumlah kunjungan setiap hari. Buat grafik tingkat konversi harian dari kedua kelompok dan jelaskan perbedaannya. Buat kesimpulan dan asumsinya.\n",
    "    \n",
    "  **3.2.7.**  Buat diagram tebar (scatter chart) untuk jumlah pesanan per pengguna. Buat kesimpulan dan asumsinya.\n",
    "    \n",
    "  **3.2.8.**  Hitung persentil ke-95 dan ke-99 untuk jumlah pesanan per pengguna. Tentukan titik ketika suatu titik data berubah menjadi anomali.\n",
    "    \n",
    "  **3.2.9.**  Buat diagram tebar (scatter chart) untuk harga pesanan. Buat kesimpulan dan asumsinya.\n",
    "    \n",
    "  **3.2.10.** Hitung persentil ke-95 dan ke-99 untuk harga pesanan. Tentukan titik ketika suatu titik data berubah menjadi anomali.\n",
    "    \n",
    "  **3.2.11.** Temukan signifikansi statistik perbedaan konversi antar kelompok menggunakan data mentah. Buat kesimpulan dan asumsinya.\n",
    "    \n",
    "  **3.2.12.** Temukan signifikansi statistik perbedaan ukuran pesanan rata-rata antar kelompok menggunakan data mentah. Buat kesimpulan dan asumsinya.\n",
    "    \n",
    "  **3.2.13.** Temukan signifikansi statistik perbedaan konversi antar kelompok menggunakan data yang telah difilter. Buat kesimpulan dan asumsinya.\n",
    "    \n",
    "  **3.2.14.** Temukan signifikansi statistik perbedaan ukuran pesanan rata-rata antar kelompok menggunakan data yang telah difilter. Buat kesimpulan dan asumsinya.\n",
    "    \n",
    "  **3.2.15.** Buatlah keputusan berdasarkan hasil pengujian. Keputusan yang memungkinkan adalah: 1. Menghentikan pengujian, serta mempertimbangkan salah satu kelompok sebagai pemimpin. 2. Menghentikan pengujian, serta menyimpulkan bahwa tidak ada perbedaan antara kedua kelompok. 3. Melanjutkan pengujian.\n",
    "    \n",
    "**Langkah 4: Kesimpulan Umum**\n",
    "\n"
   ]
  },
  {
   "cell_type": "markdown",
   "metadata": {},
   "source": [
    "## Inisialisasi\n",
    "\n",
    "Mari kita muat library yang kita butuhkan."
   ]
  },
  {
   "cell_type": "code",
   "execution_count": 1,
   "metadata": {},
   "outputs": [],
   "source": [
    "# Muat semua library\n",
    "import datetime as dt\n",
    "import pandas as pd\n",
    "import matplotlib.pyplot as plt\n",
    "import numpy as np\n",
    "import seaborn as sns\n",
    "from datetime import datetime, timedelta\n",
    "from scipy import stats as st\n",
    "from scipy.stats import levene,  shapiro, ttest_ind, mannwhitneyu"
   ]
  },
  {
   "cell_type": "markdown",
   "metadata": {},
   "source": [
    "## Memuat Data\n",
    "\n",
    "Mari kita masukkan dataset, berikut dataset yang akan kita analisa:"
   ]
  },
  {
   "cell_type": "code",
   "execution_count": 2,
   "metadata": {},
   "outputs": [],
   "source": [
    "# Memuat dataset yang akan kita gunakan\n",
    "hipothesis = pd.read_csv('/datasets/hypotheses_us.csv')\n",
    "analisa_orders = pd.read_csv('/datasets/orders_us.csv')\n",
    "analisa_visits = pd.read_csv('/datasets/visits_us.csv')"
   ]
  },
  {
   "cell_type": "markdown",
   "metadata": {},
   "source": [
    "# Melakukan Checking Data\n",
    "\n",
    "Mari kita mulai melakukan tahapan check data terlebih dahulu"
   ]
  },
  {
   "cell_type": "markdown",
   "metadata": {},
   "source": [
    "* **Checking data hipothesis**"
   ]
  },
  {
   "cell_type": "code",
   "execution_count": 3,
   "metadata": {},
   "outputs": [
    {
     "name": "stdout",
     "output_type": "stream",
     "text": [
      "<class 'pandas.core.frame.DataFrame'>\n",
      "RangeIndex: 9 entries, 0 to 8\n",
      "Data columns (total 1 columns):\n",
      " #   Column                                     Non-Null Count  Dtype \n",
      "---  ------                                     --------------  ----- \n",
      " 0   Hypothesis;Reach;Impact;Confidence;Effort  9 non-null      object\n",
      "dtypes: object(1)\n",
      "memory usage: 200.0+ bytes\n"
     ]
    }
   ],
   "source": [
    "# Menampilkan informasi hasil dataset hypotheses_us.csv\n",
    "hipothesis.info()"
   ]
  },
  {
   "cell_type": "code",
   "execution_count": 4,
   "metadata": {},
   "outputs": [
    {
     "name": "stdout",
     "output_type": "stream",
     "text": [
      "<class 'pandas.core.frame.DataFrame'>\n",
      "RangeIndex: 1197 entries, 0 to 1196\n",
      "Data columns (total 5 columns):\n",
      " #   Column         Non-Null Count  Dtype  \n",
      "---  ------         --------------  -----  \n",
      " 0   transactionId  1197 non-null   int64  \n",
      " 1   visitorId      1197 non-null   int64  \n",
      " 2   date           1197 non-null   object \n",
      " 3   revenue        1197 non-null   float64\n",
      " 4   group          1197 non-null   object \n",
      "dtypes: float64(1), int64(2), object(2)\n",
      "memory usage: 46.9+ KB\n"
     ]
    }
   ],
   "source": [
    "# Menampilkan informasi hasil dataset orders_us.csv\n",
    "analisa_orders.info()"
   ]
  },
  {
   "cell_type": "code",
   "execution_count": 5,
   "metadata": {},
   "outputs": [
    {
     "name": "stdout",
     "output_type": "stream",
     "text": [
      "<class 'pandas.core.frame.DataFrame'>\n",
      "RangeIndex: 62 entries, 0 to 61\n",
      "Data columns (total 3 columns):\n",
      " #   Column  Non-Null Count  Dtype \n",
      "---  ------  --------------  ----- \n",
      " 0   date    62 non-null     object\n",
      " 1   group   62 non-null     object\n",
      " 2   visits  62 non-null     int64 \n",
      "dtypes: int64(1), object(2)\n",
      "memory usage: 1.6+ KB\n"
     ]
    }
   ],
   "source": [
    "# Menampilkan informasi hasil dataset visits_us.csv\n",
    "analisa_visits.info()"
   ]
  },
  {
   "cell_type": "markdown",
   "metadata": {},
   "source": [
    "**Temuan**\n",
    "\n",
    "Tidak ada nilai yang hilang dan duplikasi data dari informasi yang tersedia."
   ]
  },
  {
   "cell_type": "code",
   "execution_count": 6,
   "metadata": {},
   "outputs": [
    {
     "data": {
      "text/html": [
       "<div>\n",
       "<style scoped>\n",
       "    .dataframe tbody tr th:only-of-type {\n",
       "        vertical-align: middle;\n",
       "    }\n",
       "\n",
       "    .dataframe tbody tr th {\n",
       "        vertical-align: top;\n",
       "    }\n",
       "\n",
       "    .dataframe thead th {\n",
       "        text-align: right;\n",
       "    }\n",
       "</style>\n",
       "<table border=\"1\" class=\"dataframe\">\n",
       "  <thead>\n",
       "    <tr style=\"text-align: right;\">\n",
       "      <th></th>\n",
       "      <th>Hypothesis;Reach;Impact;Confidence;Effort</th>\n",
       "    </tr>\n",
       "  </thead>\n",
       "  <tbody>\n",
       "    <tr>\n",
       "      <th>0</th>\n",
       "      <td>Add two new channels for attracting traffic. T...</td>\n",
       "    </tr>\n",
       "    <tr>\n",
       "      <th>1</th>\n",
       "      <td>Launch your own delivery service. This will sh...</td>\n",
       "    </tr>\n",
       "    <tr>\n",
       "      <th>2</th>\n",
       "      <td>Add product recommendation blocks to the store...</td>\n",
       "    </tr>\n",
       "    <tr>\n",
       "      <th>3</th>\n",
       "      <td>Change the category structure. This will incre...</td>\n",
       "    </tr>\n",
       "    <tr>\n",
       "      <th>4</th>\n",
       "      <td>Change the background color on the main page. ...</td>\n",
       "    </tr>\n",
       "    <tr>\n",
       "      <th>5</th>\n",
       "      <td>Add a customer review page. This will increase...</td>\n",
       "    </tr>\n",
       "    <tr>\n",
       "      <th>6</th>\n",
       "      <td>Show banners with current offers and sales on ...</td>\n",
       "    </tr>\n",
       "    <tr>\n",
       "      <th>7</th>\n",
       "      <td>Add a subscription form to all the main pages....</td>\n",
       "    </tr>\n",
       "    <tr>\n",
       "      <th>8</th>\n",
       "      <td>Launch a promotion that gives users discounts ...</td>\n",
       "    </tr>\n",
       "  </tbody>\n",
       "</table>\n",
       "</div>"
      ],
      "text/plain": [
       "           Hypothesis;Reach;Impact;Confidence;Effort\n",
       "0  Add two new channels for attracting traffic. T...\n",
       "1  Launch your own delivery service. This will sh...\n",
       "2  Add product recommendation blocks to the store...\n",
       "3  Change the category structure. This will incre...\n",
       "4  Change the background color on the main page. ...\n",
       "5  Add a customer review page. This will increase...\n",
       "6  Show banners with current offers and sales on ...\n",
       "7  Add a subscription form to all the main pages....\n",
       "8  Launch a promotion that gives users discounts ..."
      ]
     },
     "execution_count": 6,
     "metadata": {},
     "output_type": "execute_result"
    }
   ],
   "source": [
    "# Menampilkan isi dataset hypotheses_us.csv\n",
    "hipothesis.head(10)"
   ]
  },
  {
   "cell_type": "code",
   "execution_count": 7,
   "metadata": {},
   "outputs": [],
   "source": [
    "# Memisahkan masing-masing category dalam kolom RICE \n",
    "hipothesis[['Hypothesis', 'Reach', 'Impact', 'Confidence', 'Effort']] = hipothesis['Hypothesis;Reach;Impact;Confidence;Effort'].str.split(';', expand=True)\n",
    "\n",
    "# Memisahkan kolom awal\n",
    "hipothesis.drop('Hypothesis;Reach;Impact;Confidence;Effort', axis=1, inplace=True)\n",
    "\n",
    "# Nama kolom dirubah supaya mudah merepresentasikan\n",
    "hipothesis.rename(columns={'Hypothesis': 'rice_hypothesis'}, inplace=True)\n"
   ]
  },
  {
   "cell_type": "code",
   "execution_count": 8,
   "metadata": {},
   "outputs": [
    {
     "data": {
      "text/html": [
       "<div>\n",
       "<style scoped>\n",
       "    .dataframe tbody tr th:only-of-type {\n",
       "        vertical-align: middle;\n",
       "    }\n",
       "\n",
       "    .dataframe tbody tr th {\n",
       "        vertical-align: top;\n",
       "    }\n",
       "\n",
       "    .dataframe thead th {\n",
       "        text-align: right;\n",
       "    }\n",
       "</style>\n",
       "<table border=\"1\" class=\"dataframe\">\n",
       "  <thead>\n",
       "    <tr style=\"text-align: right;\">\n",
       "      <th></th>\n",
       "      <th>rice_hypothesis</th>\n",
       "      <th>Reach</th>\n",
       "      <th>Impact</th>\n",
       "      <th>Confidence</th>\n",
       "      <th>Effort</th>\n",
       "    </tr>\n",
       "  </thead>\n",
       "  <tbody>\n",
       "    <tr>\n",
       "      <th>0</th>\n",
       "      <td>Add two new channels for attracting traffic. T...</td>\n",
       "      <td>3</td>\n",
       "      <td>10</td>\n",
       "      <td>8</td>\n",
       "      <td>6</td>\n",
       "    </tr>\n",
       "    <tr>\n",
       "      <th>1</th>\n",
       "      <td>Launch your own delivery service. This will sh...</td>\n",
       "      <td>2</td>\n",
       "      <td>5</td>\n",
       "      <td>4</td>\n",
       "      <td>10</td>\n",
       "    </tr>\n",
       "    <tr>\n",
       "      <th>2</th>\n",
       "      <td>Add product recommendation blocks to the store...</td>\n",
       "      <td>8</td>\n",
       "      <td>3</td>\n",
       "      <td>7</td>\n",
       "      <td>3</td>\n",
       "    </tr>\n",
       "    <tr>\n",
       "      <th>3</th>\n",
       "      <td>Change the category structure. This will incre...</td>\n",
       "      <td>8</td>\n",
       "      <td>3</td>\n",
       "      <td>3</td>\n",
       "      <td>8</td>\n",
       "    </tr>\n",
       "    <tr>\n",
       "      <th>4</th>\n",
       "      <td>Change the background color on the main page. ...</td>\n",
       "      <td>3</td>\n",
       "      <td>1</td>\n",
       "      <td>1</td>\n",
       "      <td>1</td>\n",
       "    </tr>\n",
       "    <tr>\n",
       "      <th>5</th>\n",
       "      <td>Add a customer review page. This will increase...</td>\n",
       "      <td>3</td>\n",
       "      <td>2</td>\n",
       "      <td>2</td>\n",
       "      <td>3</td>\n",
       "    </tr>\n",
       "    <tr>\n",
       "      <th>6</th>\n",
       "      <td>Show banners with current offers and sales on ...</td>\n",
       "      <td>5</td>\n",
       "      <td>3</td>\n",
       "      <td>8</td>\n",
       "      <td>3</td>\n",
       "    </tr>\n",
       "    <tr>\n",
       "      <th>7</th>\n",
       "      <td>Add a subscription form to all the main pages....</td>\n",
       "      <td>10</td>\n",
       "      <td>7</td>\n",
       "      <td>8</td>\n",
       "      <td>5</td>\n",
       "    </tr>\n",
       "    <tr>\n",
       "      <th>8</th>\n",
       "      <td>Launch a promotion that gives users discounts ...</td>\n",
       "      <td>1</td>\n",
       "      <td>9</td>\n",
       "      <td>9</td>\n",
       "      <td>5</td>\n",
       "    </tr>\n",
       "  </tbody>\n",
       "</table>\n",
       "</div>"
      ],
      "text/plain": [
       "                                     rice_hypothesis Reach Impact Confidence  \\\n",
       "0  Add two new channels for attracting traffic. T...     3     10          8   \n",
       "1  Launch your own delivery service. This will sh...     2      5          4   \n",
       "2  Add product recommendation blocks to the store...     8      3          7   \n",
       "3  Change the category structure. This will incre...     8      3          3   \n",
       "4  Change the background color on the main page. ...     3      1          1   \n",
       "5  Add a customer review page. This will increase...     3      2          2   \n",
       "6  Show banners with current offers and sales on ...     5      3          8   \n",
       "7  Add a subscription form to all the main pages....    10      7          8   \n",
       "8  Launch a promotion that gives users discounts ...     1      9          9   \n",
       "\n",
       "  Effort  \n",
       "0      6  \n",
       "1     10  \n",
       "2      3  \n",
       "3      8  \n",
       "4      1  \n",
       "5      3  \n",
       "6      3  \n",
       "7      5  \n",
       "8      5  "
      ]
     },
     "execution_count": 8,
     "metadata": {},
     "output_type": "execute_result"
    }
   ],
   "source": [
    "hipothesis"
   ]
  },
  {
   "cell_type": "code",
   "execution_count": 9,
   "metadata": {},
   "outputs": [],
   "source": [
    "# Merubah kolom menjadi lowercase\n",
    "hipothesis.columns = hipothesis.columns.str.lower()"
   ]
  },
  {
   "cell_type": "code",
   "execution_count": 10,
   "metadata": {},
   "outputs": [
    {
     "data": {
      "text/html": [
       "<div>\n",
       "<style scoped>\n",
       "    .dataframe tbody tr th:only-of-type {\n",
       "        vertical-align: middle;\n",
       "    }\n",
       "\n",
       "    .dataframe tbody tr th {\n",
       "        vertical-align: top;\n",
       "    }\n",
       "\n",
       "    .dataframe thead th {\n",
       "        text-align: right;\n",
       "    }\n",
       "</style>\n",
       "<table border=\"1\" class=\"dataframe\">\n",
       "  <thead>\n",
       "    <tr style=\"text-align: right;\">\n",
       "      <th></th>\n",
       "      <th>rice_hypothesis</th>\n",
       "      <th>reach</th>\n",
       "      <th>impact</th>\n",
       "      <th>confidence</th>\n",
       "      <th>effort</th>\n",
       "    </tr>\n",
       "  </thead>\n",
       "  <tbody>\n",
       "    <tr>\n",
       "      <th>0</th>\n",
       "      <td>Add two new channels for attracting traffic. T...</td>\n",
       "      <td>3</td>\n",
       "      <td>10</td>\n",
       "      <td>8</td>\n",
       "      <td>6</td>\n",
       "    </tr>\n",
       "    <tr>\n",
       "      <th>1</th>\n",
       "      <td>Launch your own delivery service. This will sh...</td>\n",
       "      <td>2</td>\n",
       "      <td>5</td>\n",
       "      <td>4</td>\n",
       "      <td>10</td>\n",
       "    </tr>\n",
       "    <tr>\n",
       "      <th>2</th>\n",
       "      <td>Add product recommendation blocks to the store...</td>\n",
       "      <td>8</td>\n",
       "      <td>3</td>\n",
       "      <td>7</td>\n",
       "      <td>3</td>\n",
       "    </tr>\n",
       "    <tr>\n",
       "      <th>3</th>\n",
       "      <td>Change the category structure. This will incre...</td>\n",
       "      <td>8</td>\n",
       "      <td>3</td>\n",
       "      <td>3</td>\n",
       "      <td>8</td>\n",
       "    </tr>\n",
       "    <tr>\n",
       "      <th>4</th>\n",
       "      <td>Change the background color on the main page. ...</td>\n",
       "      <td>3</td>\n",
       "      <td>1</td>\n",
       "      <td>1</td>\n",
       "      <td>1</td>\n",
       "    </tr>\n",
       "    <tr>\n",
       "      <th>5</th>\n",
       "      <td>Add a customer review page. This will increase...</td>\n",
       "      <td>3</td>\n",
       "      <td>2</td>\n",
       "      <td>2</td>\n",
       "      <td>3</td>\n",
       "    </tr>\n",
       "    <tr>\n",
       "      <th>6</th>\n",
       "      <td>Show banners with current offers and sales on ...</td>\n",
       "      <td>5</td>\n",
       "      <td>3</td>\n",
       "      <td>8</td>\n",
       "      <td>3</td>\n",
       "    </tr>\n",
       "    <tr>\n",
       "      <th>7</th>\n",
       "      <td>Add a subscription form to all the main pages....</td>\n",
       "      <td>10</td>\n",
       "      <td>7</td>\n",
       "      <td>8</td>\n",
       "      <td>5</td>\n",
       "    </tr>\n",
       "    <tr>\n",
       "      <th>8</th>\n",
       "      <td>Launch a promotion that gives users discounts ...</td>\n",
       "      <td>1</td>\n",
       "      <td>9</td>\n",
       "      <td>9</td>\n",
       "      <td>5</td>\n",
       "    </tr>\n",
       "  </tbody>\n",
       "</table>\n",
       "</div>"
      ],
      "text/plain": [
       "                                     rice_hypothesis reach impact confidence  \\\n",
       "0  Add two new channels for attracting traffic. T...     3     10          8   \n",
       "1  Launch your own delivery service. This will sh...     2      5          4   \n",
       "2  Add product recommendation blocks to the store...     8      3          7   \n",
       "3  Change the category structure. This will incre...     8      3          3   \n",
       "4  Change the background color on the main page. ...     3      1          1   \n",
       "5  Add a customer review page. This will increase...     3      2          2   \n",
       "6  Show banners with current offers and sales on ...     5      3          8   \n",
       "7  Add a subscription form to all the main pages....    10      7          8   \n",
       "8  Launch a promotion that gives users discounts ...     1      9          9   \n",
       "\n",
       "  effort  \n",
       "0      6  \n",
       "1     10  \n",
       "2      3  \n",
       "3      8  \n",
       "4      1  \n",
       "5      3  \n",
       "6      3  \n",
       "7      5  \n",
       "8      5  "
      ]
     },
     "execution_count": 10,
     "metadata": {},
     "output_type": "execute_result"
    }
   ],
   "source": [
    "# Menampilkan isi dataset hipothesis\n",
    "hipothesis"
   ]
  },
  {
   "cell_type": "code",
   "execution_count": 11,
   "metadata": {},
   "outputs": [
    {
     "name": "stdout",
     "output_type": "stream",
     "text": [
      "<class 'pandas.core.frame.DataFrame'>\n",
      "RangeIndex: 9 entries, 0 to 8\n",
      "Data columns (total 5 columns):\n",
      " #   Column           Non-Null Count  Dtype \n",
      "---  ------           --------------  ----- \n",
      " 0   rice_hypothesis  9 non-null      object\n",
      " 1   reach            9 non-null      object\n",
      " 2   impact           9 non-null      object\n",
      " 3   confidence       9 non-null      object\n",
      " 4   effort           9 non-null      object\n",
      "dtypes: object(5)\n",
      "memory usage: 488.0+ bytes\n"
     ]
    }
   ],
   "source": [
    "# Check informasi dataset hipothesis\n",
    "hipothesis.info()"
   ]
  },
  {
   "cell_type": "code",
   "execution_count": 12,
   "metadata": {},
   "outputs": [],
   "source": [
    "# Merubah nilai RICE menjadi tipe data integer agar bisa dihitung.\n",
    "cols_to_convert = ['reach', 'impact', 'confidence', 'effort']\n",
    "hipothesis[cols_to_convert] = hipothesis[cols_to_convert].astype(int)"
   ]
  },
  {
   "cell_type": "code",
   "execution_count": 13,
   "metadata": {},
   "outputs": [
    {
     "name": "stdout",
     "output_type": "stream",
     "text": [
      "<class 'pandas.core.frame.DataFrame'>\n",
      "RangeIndex: 9 entries, 0 to 8\n",
      "Data columns (total 5 columns):\n",
      " #   Column           Non-Null Count  Dtype \n",
      "---  ------           --------------  ----- \n",
      " 0   rice_hypothesis  9 non-null      object\n",
      " 1   reach            9 non-null      int64 \n",
      " 2   impact           9 non-null      int64 \n",
      " 3   confidence       9 non-null      int64 \n",
      " 4   effort           9 non-null      int64 \n",
      "dtypes: int64(4), object(1)\n",
      "memory usage: 488.0+ bytes\n"
     ]
    }
   ],
   "source": [
    "# Check setelah perubahan tipe data\n",
    "hipothesis.info()"
   ]
  },
  {
   "cell_type": "markdown",
   "metadata": {},
   "source": [
    "**Kesimpulan Sementara**\n",
    "\n",
    "Dataset hipothesis perlu diperbaiki agar mudah untuk melihat kondisi nilai hypothesis RICE yang dimiliki."
   ]
  },
  {
   "cell_type": "markdown",
   "metadata": {},
   "source": [
    "* **Checking data analisa_orders**"
   ]
  },
  {
   "cell_type": "code",
   "execution_count": 14,
   "metadata": {},
   "outputs": [
    {
     "name": "stdout",
     "output_type": "stream",
     "text": [
      "<class 'pandas.core.frame.DataFrame'>\n",
      "RangeIndex: 1197 entries, 0 to 1196\n",
      "Data columns (total 5 columns):\n",
      " #   Column         Non-Null Count  Dtype  \n",
      "---  ------         --------------  -----  \n",
      " 0   transactionId  1197 non-null   int64  \n",
      " 1   visitorId      1197 non-null   int64  \n",
      " 2   date           1197 non-null   object \n",
      " 3   revenue        1197 non-null   float64\n",
      " 4   group          1197 non-null   object \n",
      "dtypes: float64(1), int64(2), object(2)\n",
      "memory usage: 46.9+ KB\n"
     ]
    }
   ],
   "source": [
    "# Menampilkan info dataset orders_us.csv\n",
    "analisa_orders.info()"
   ]
  },
  {
   "cell_type": "code",
   "execution_count": 15,
   "metadata": {},
   "outputs": [
    {
     "data": {
      "text/html": [
       "<div>\n",
       "<style scoped>\n",
       "    .dataframe tbody tr th:only-of-type {\n",
       "        vertical-align: middle;\n",
       "    }\n",
       "\n",
       "    .dataframe tbody tr th {\n",
       "        vertical-align: top;\n",
       "    }\n",
       "\n",
       "    .dataframe thead th {\n",
       "        text-align: right;\n",
       "    }\n",
       "</style>\n",
       "<table border=\"1\" class=\"dataframe\">\n",
       "  <thead>\n",
       "    <tr style=\"text-align: right;\">\n",
       "      <th></th>\n",
       "      <th>transactionId</th>\n",
       "      <th>visitorId</th>\n",
       "      <th>date</th>\n",
       "      <th>revenue</th>\n",
       "      <th>group</th>\n",
       "    </tr>\n",
       "  </thead>\n",
       "  <tbody>\n",
       "    <tr>\n",
       "      <th>0</th>\n",
       "      <td>3667963787</td>\n",
       "      <td>3312258926</td>\n",
       "      <td>2019-08-15</td>\n",
       "      <td>30.4</td>\n",
       "      <td>B</td>\n",
       "    </tr>\n",
       "    <tr>\n",
       "      <th>1</th>\n",
       "      <td>2804400009</td>\n",
       "      <td>3642806036</td>\n",
       "      <td>2019-08-15</td>\n",
       "      <td>15.2</td>\n",
       "      <td>B</td>\n",
       "    </tr>\n",
       "    <tr>\n",
       "      <th>2</th>\n",
       "      <td>2961555356</td>\n",
       "      <td>4069496402</td>\n",
       "      <td>2019-08-15</td>\n",
       "      <td>10.2</td>\n",
       "      <td>A</td>\n",
       "    </tr>\n",
       "    <tr>\n",
       "      <th>3</th>\n",
       "      <td>3797467345</td>\n",
       "      <td>1196621759</td>\n",
       "      <td>2019-08-15</td>\n",
       "      <td>155.1</td>\n",
       "      <td>B</td>\n",
       "    </tr>\n",
       "    <tr>\n",
       "      <th>4</th>\n",
       "      <td>2282983706</td>\n",
       "      <td>2322279887</td>\n",
       "      <td>2019-08-15</td>\n",
       "      <td>40.5</td>\n",
       "      <td>B</td>\n",
       "    </tr>\n",
       "    <tr>\n",
       "      <th>5</th>\n",
       "      <td>182168103</td>\n",
       "      <td>935554773</td>\n",
       "      <td>2019-08-15</td>\n",
       "      <td>35.0</td>\n",
       "      <td>B</td>\n",
       "    </tr>\n",
       "    <tr>\n",
       "      <th>6</th>\n",
       "      <td>398296753</td>\n",
       "      <td>2900797465</td>\n",
       "      <td>2019-08-15</td>\n",
       "      <td>30.6</td>\n",
       "      <td>B</td>\n",
       "    </tr>\n",
       "    <tr>\n",
       "      <th>7</th>\n",
       "      <td>2626614568</td>\n",
       "      <td>78758296</td>\n",
       "      <td>2019-08-15</td>\n",
       "      <td>20.1</td>\n",
       "      <td>A</td>\n",
       "    </tr>\n",
       "    <tr>\n",
       "      <th>8</th>\n",
       "      <td>1576988021</td>\n",
       "      <td>295230930</td>\n",
       "      <td>2019-08-15</td>\n",
       "      <td>215.9</td>\n",
       "      <td>A</td>\n",
       "    </tr>\n",
       "    <tr>\n",
       "      <th>9</th>\n",
       "      <td>1506739906</td>\n",
       "      <td>1882260405</td>\n",
       "      <td>2019-08-15</td>\n",
       "      <td>30.5</td>\n",
       "      <td>B</td>\n",
       "    </tr>\n",
       "  </tbody>\n",
       "</table>\n",
       "</div>"
      ],
      "text/plain": [
       "   transactionId   visitorId        date  revenue group\n",
       "0     3667963787  3312258926  2019-08-15     30.4     B\n",
       "1     2804400009  3642806036  2019-08-15     15.2     B\n",
       "2     2961555356  4069496402  2019-08-15     10.2     A\n",
       "3     3797467345  1196621759  2019-08-15    155.1     B\n",
       "4     2282983706  2322279887  2019-08-15     40.5     B\n",
       "5      182168103   935554773  2019-08-15     35.0     B\n",
       "6      398296753  2900797465  2019-08-15     30.6     B\n",
       "7     2626614568    78758296  2019-08-15     20.1     A\n",
       "8     1576988021   295230930  2019-08-15    215.9     A\n",
       "9     1506739906  1882260405  2019-08-15     30.5     B"
      ]
     },
     "execution_count": 15,
     "metadata": {},
     "output_type": "execute_result"
    }
   ],
   "source": [
    "# Menampilkan isi dataset orders_us.csv\n",
    "analisa_orders.head(10)"
   ]
  },
  {
   "cell_type": "markdown",
   "metadata": {},
   "source": [
    "**Temuan**\n",
    "\n",
    "Tidak ada data yang hilang untuk dataset ini. Mungkin kita akan mengubah beberapa nama kolom dan tipe data yang perlu disesuaikan"
   ]
  },
  {
   "cell_type": "code",
   "execution_count": 16,
   "metadata": {},
   "outputs": [],
   "source": [
    "# mengubah nama untuk transcationid dan visitorid ke dalam bentuk penulisan snake_case\n",
    "analisa_orders.rename(columns={'transactionId': 'transaction_id', 'visitorId': 'visitor_id'}, inplace=True)"
   ]
  },
  {
   "cell_type": "code",
   "execution_count": 17,
   "metadata": {},
   "outputs": [],
   "source": [
    "# mengubah tipe data date menjadi datetime\n",
    "analisa_orders['date'] = pd.to_datetime(analisa_orders['date'])"
   ]
  },
  {
   "cell_type": "code",
   "execution_count": 18,
   "metadata": {},
   "outputs": [
    {
     "name": "stdout",
     "output_type": "stream",
     "text": [
      "<class 'pandas.core.frame.DataFrame'>\n",
      "RangeIndex: 1197 entries, 0 to 1196\n",
      "Data columns (total 5 columns):\n",
      " #   Column          Non-Null Count  Dtype         \n",
      "---  ------          --------------  -----         \n",
      " 0   transaction_id  1197 non-null   int64         \n",
      " 1   visitor_id      1197 non-null   int64         \n",
      " 2   date            1197 non-null   datetime64[ns]\n",
      " 3   revenue         1197 non-null   float64       \n",
      " 4   group           1197 non-null   object        \n",
      "dtypes: datetime64[ns](1), float64(1), int64(2), object(1)\n",
      "memory usage: 46.9+ KB\n"
     ]
    }
   ],
   "source": [
    "# cek kembali data set setelah ada perubahan tipe data\n",
    "analisa_orders.info()"
   ]
  },
  {
   "cell_type": "markdown",
   "metadata": {},
   "source": [
    "* Untuk tipe data kolom revenue akan kita biarkan, karena secara bawaan nilai tersebut sudah ada angka dibelakang koma."
   ]
  },
  {
   "cell_type": "markdown",
   "metadata": {},
   "source": [
    "**Kesimpulan Sementara**\n",
    "\n",
    "Untuk dataset analisa_orders, terdapat sedikit perubahan untuk nama kolom juga untuk tipe data yang disesuaikan."
   ]
  },
  {
   "cell_type": "markdown",
   "metadata": {},
   "source": [
    "* **Checking data analisa_visits**"
   ]
  },
  {
   "cell_type": "code",
   "execution_count": 19,
   "metadata": {},
   "outputs": [
    {
     "name": "stdout",
     "output_type": "stream",
     "text": [
      "<class 'pandas.core.frame.DataFrame'>\n",
      "RangeIndex: 62 entries, 0 to 61\n",
      "Data columns (total 3 columns):\n",
      " #   Column  Non-Null Count  Dtype \n",
      "---  ------  --------------  ----- \n",
      " 0   date    62 non-null     object\n",
      " 1   group   62 non-null     object\n",
      " 2   visits  62 non-null     int64 \n",
      "dtypes: int64(1), object(2)\n",
      "memory usage: 1.6+ KB\n"
     ]
    }
   ],
   "source": [
    "# Memeriksa informasi data set analisa_visits\n",
    "analisa_visits.info()"
   ]
  },
  {
   "cell_type": "markdown",
   "metadata": {},
   "source": [
    "**Kesimpulan Sementara**\n",
    "\n",
    "Semua data untuk saat ini tidak ada yang hilang, tidak ditemukan nilai yang kosong."
   ]
  },
  {
   "cell_type": "code",
   "execution_count": 20,
   "metadata": {},
   "outputs": [
    {
     "data": {
      "text/html": [
       "<div>\n",
       "<style scoped>\n",
       "    .dataframe tbody tr th:only-of-type {\n",
       "        vertical-align: middle;\n",
       "    }\n",
       "\n",
       "    .dataframe tbody tr th {\n",
       "        vertical-align: top;\n",
       "    }\n",
       "\n",
       "    .dataframe thead th {\n",
       "        text-align: right;\n",
       "    }\n",
       "</style>\n",
       "<table border=\"1\" class=\"dataframe\">\n",
       "  <thead>\n",
       "    <tr style=\"text-align: right;\">\n",
       "      <th></th>\n",
       "      <th>date</th>\n",
       "      <th>group</th>\n",
       "      <th>visits</th>\n",
       "    </tr>\n",
       "  </thead>\n",
       "  <tbody>\n",
       "    <tr>\n",
       "      <th>0</th>\n",
       "      <td>2019-08-01</td>\n",
       "      <td>A</td>\n",
       "      <td>719</td>\n",
       "    </tr>\n",
       "    <tr>\n",
       "      <th>1</th>\n",
       "      <td>2019-08-02</td>\n",
       "      <td>A</td>\n",
       "      <td>619</td>\n",
       "    </tr>\n",
       "    <tr>\n",
       "      <th>2</th>\n",
       "      <td>2019-08-03</td>\n",
       "      <td>A</td>\n",
       "      <td>507</td>\n",
       "    </tr>\n",
       "    <tr>\n",
       "      <th>3</th>\n",
       "      <td>2019-08-04</td>\n",
       "      <td>A</td>\n",
       "      <td>717</td>\n",
       "    </tr>\n",
       "    <tr>\n",
       "      <th>4</th>\n",
       "      <td>2019-08-05</td>\n",
       "      <td>A</td>\n",
       "      <td>756</td>\n",
       "    </tr>\n",
       "    <tr>\n",
       "      <th>5</th>\n",
       "      <td>2019-08-06</td>\n",
       "      <td>A</td>\n",
       "      <td>667</td>\n",
       "    </tr>\n",
       "    <tr>\n",
       "      <th>6</th>\n",
       "      <td>2019-08-07</td>\n",
       "      <td>A</td>\n",
       "      <td>644</td>\n",
       "    </tr>\n",
       "    <tr>\n",
       "      <th>7</th>\n",
       "      <td>2019-08-08</td>\n",
       "      <td>A</td>\n",
       "      <td>610</td>\n",
       "    </tr>\n",
       "    <tr>\n",
       "      <th>8</th>\n",
       "      <td>2019-08-09</td>\n",
       "      <td>A</td>\n",
       "      <td>617</td>\n",
       "    </tr>\n",
       "    <tr>\n",
       "      <th>9</th>\n",
       "      <td>2019-08-10</td>\n",
       "      <td>A</td>\n",
       "      <td>406</td>\n",
       "    </tr>\n",
       "  </tbody>\n",
       "</table>\n",
       "</div>"
      ],
      "text/plain": [
       "         date group  visits\n",
       "0  2019-08-01     A     719\n",
       "1  2019-08-02     A     619\n",
       "2  2019-08-03     A     507\n",
       "3  2019-08-04     A     717\n",
       "4  2019-08-05     A     756\n",
       "5  2019-08-06     A     667\n",
       "6  2019-08-07     A     644\n",
       "7  2019-08-08     A     610\n",
       "8  2019-08-09     A     617\n",
       "9  2019-08-10     A     406"
      ]
     },
     "execution_count": 20,
     "metadata": {},
     "output_type": "execute_result"
    }
   ],
   "source": [
    "# Menampilkan isi dataset analisa_visits\n",
    "analisa_visits.head(10)"
   ]
  },
  {
   "cell_type": "markdown",
   "metadata": {},
   "source": [
    "**Temuan**\n",
    "\n",
    "Kita akan merubah tipe data date menjadi tipe data yang sesuai."
   ]
  },
  {
   "cell_type": "code",
   "execution_count": 21,
   "metadata": {},
   "outputs": [],
   "source": [
    "# mengubah tipe data date pada dataset visitors_df\n",
    "analisa_visits['date'] = pd.to_datetime(analisa_visits['date'])"
   ]
  },
  {
   "cell_type": "code",
   "execution_count": 22,
   "metadata": {},
   "outputs": [
    {
     "name": "stdout",
     "output_type": "stream",
     "text": [
      "<class 'pandas.core.frame.DataFrame'>\n",
      "RangeIndex: 62 entries, 0 to 61\n",
      "Data columns (total 3 columns):\n",
      " #   Column  Non-Null Count  Dtype         \n",
      "---  ------  --------------  -----         \n",
      " 0   date    62 non-null     datetime64[ns]\n",
      " 1   group   62 non-null     object        \n",
      " 2   visits  62 non-null     int64         \n",
      "dtypes: datetime64[ns](1), int64(1), object(1)\n",
      "memory usage: 1.6+ KB\n"
     ]
    }
   ],
   "source": [
    "# cek kembali data set setelah ada perubahan tipe data\n",
    "analisa_visits.info()"
   ]
  },
  {
   "cell_type": "markdown",
   "metadata": {},
   "source": [
    "**Kesimpulan Sementara**\n",
    "\n",
    "Untuk analisa_visits, hanya terdapat kolom `date` yang perlu diubah dengan tipe data yang sesuai."
   ]
  },
  {
   "cell_type": "markdown",
   "metadata": {},
   "source": [
    "# **Memastikan Tipe Datanya Sudah Benar**"
   ]
  },
  {
   "cell_type": "code",
   "execution_count": 23,
   "metadata": {},
   "outputs": [
    {
     "name": "stdout",
     "output_type": "stream",
     "text": [
      "<class 'pandas.core.frame.DataFrame'>\n",
      "RangeIndex: 9 entries, 0 to 8\n",
      "Data columns (total 5 columns):\n",
      " #   Column           Non-Null Count  Dtype \n",
      "---  ------           --------------  ----- \n",
      " 0   rice_hypothesis  9 non-null      object\n",
      " 1   reach            9 non-null      int64 \n",
      " 2   impact           9 non-null      int64 \n",
      " 3   confidence       9 non-null      int64 \n",
      " 4   effort           9 non-null      int64 \n",
      "dtypes: int64(4), object(1)\n",
      "memory usage: 488.0+ bytes\n",
      "\n",
      "Missing Value :  \n",
      " rice_hypothesis    0\n",
      "reach              0\n",
      "impact             0\n",
      "confidence         0\n",
      "effort             0\n",
      "dtype: int64\n",
      "\n",
      "Duplicate : \n",
      " 0\n"
     ]
    }
   ],
   "source": [
    "# Menampilkan informasi hasil hypotheses_us.csv\n",
    "hipothesis.info()\n",
    "print('\\nMissing Value :  \\n', hipothesis.isnull().sum())\n",
    "print('\\nDuplicate : \\n', hipothesis.duplicated().sum())"
   ]
  },
  {
   "cell_type": "code",
   "execution_count": 24,
   "metadata": {},
   "outputs": [
    {
     "name": "stdout",
     "output_type": "stream",
     "text": [
      "<class 'pandas.core.frame.DataFrame'>\n",
      "RangeIndex: 1197 entries, 0 to 1196\n",
      "Data columns (total 5 columns):\n",
      " #   Column          Non-Null Count  Dtype         \n",
      "---  ------          --------------  -----         \n",
      " 0   transaction_id  1197 non-null   int64         \n",
      " 1   visitor_id      1197 non-null   int64         \n",
      " 2   date            1197 non-null   datetime64[ns]\n",
      " 3   revenue         1197 non-null   float64       \n",
      " 4   group           1197 non-null   object        \n",
      "dtypes: datetime64[ns](1), float64(1), int64(2), object(1)\n",
      "memory usage: 46.9+ KB\n",
      "\n",
      "Missing Value :  \n",
      " transaction_id    0\n",
      "visitor_id        0\n",
      "date              0\n",
      "revenue           0\n",
      "group             0\n",
      "dtype: int64\n",
      "\n",
      "Duplicate : \n",
      " 0\n"
     ]
    }
   ],
   "source": [
    "# Menampilkan informasi hasil orders_us.csv\n",
    "analisa_orders.info()\n",
    "print('\\nMissing Value :  \\n', analisa_orders.isnull().sum())\n",
    "print('\\nDuplicate : \\n', analisa_orders.duplicated().sum())"
   ]
  },
  {
   "cell_type": "code",
   "execution_count": 25,
   "metadata": {},
   "outputs": [
    {
     "name": "stdout",
     "output_type": "stream",
     "text": [
      "<class 'pandas.core.frame.DataFrame'>\n",
      "RangeIndex: 62 entries, 0 to 61\n",
      "Data columns (total 3 columns):\n",
      " #   Column  Non-Null Count  Dtype         \n",
      "---  ------  --------------  -----         \n",
      " 0   date    62 non-null     datetime64[ns]\n",
      " 1   group   62 non-null     object        \n",
      " 2   visits  62 non-null     int64         \n",
      "dtypes: datetime64[ns](1), int64(1), object(1)\n",
      "memory usage: 1.6+ KB\n",
      "\n",
      "Missing Value :  \n",
      " date      0\n",
      "group     0\n",
      "visits    0\n",
      "dtype: int64\n",
      "\n",
      "Duplicate : \n",
      " 0\n"
     ]
    }
   ],
   "source": [
    "# Menampilkan informasi hasil visits_us.csv\n",
    "analisa_visits.info()\n",
    "print('\\nMissing Value :  \\n', analisa_visits.isnull().sum())\n",
    "print('\\nDuplicate : \\n', analisa_visits.duplicated().sum())"
   ]
  },
  {
   "cell_type": "markdown",
   "metadata": {},
   "source": [
    "**Kesimpulan Sementara**\n",
    "\n",
    "Saat ini tipe data sudah sesuai tidak ada yang harus dirubah dan tidak ada data yang duplicate. Mari kita analisa lebih lanjut."
   ]
  },
  {
   "cell_type": "markdown",
   "metadata": {},
   "source": [
    "## Memprioritaskan Hipotesis\n",
    "\n",
    "   **3.1. File `hypotheses_us.csv` memuat sembilan hipotesis untuk meningkatkan pendapatan toko online dengan Reach, Impact, Confidence, dan Effort yang sudah ditentukan untuk masing-masing hipotesis.**"
   ]
  },
  {
   "cell_type": "markdown",
   "metadata": {},
   "source": [
    "**3.1.1 Menerapkan Framework ICE**\n",
    "\n",
    "* Untuk memprioritaskan hipotesis. Urutkan hipotesis tersebut dalam urutan prioritas menurun."
   ]
  },
  {
   "cell_type": "code",
   "execution_count": 26,
   "metadata": {},
   "outputs": [
    {
     "name": "stdout",
     "output_type": "stream",
     "text": [
      "                                     rice_hypothesis        ICE\n",
      "8  Launch a promotion that gives users discounts ...  16.200000\n",
      "0  Add two new channels for attracting traffic. T...  13.333333\n",
      "7  Add a subscription form to all the main pages....  11.200000\n",
      "6  Show banners with current offers and sales on ...   8.000000\n",
      "2  Add product recommendation blocks to the store...   7.000000\n",
      "1  Launch your own delivery service. This will sh...   2.000000\n",
      "5  Add a customer review page. This will increase...   1.333333\n",
      "3  Change the category structure. This will incre...   1.125000\n",
      "4  Change the background color on the main page. ...   1.000000\n"
     ]
    }
   ],
   "source": [
    "# Perhitungan framework ICE\n",
    "\n",
    "hipothesis['ICE'] = (hipothesis['impact']*hipothesis['confidence']) / hipothesis['effort']\n",
    "\n",
    "print(hipothesis[['rice_hypothesis', 'ICE']].sort_values(by = 'ICE', ascending = False))"
   ]
  },
  {
   "cell_type": "code",
   "execution_count": 27,
   "metadata": {},
   "outputs": [
    {
     "data": {
      "image/png": "[encoded data removed]",
      "text/plain": [
       "<Figure size 432x720 with 1 Axes>"
      ]
     },
     "metadata": {
      "needs_background": "light"
     },
     "output_type": "display_data"
    }
   ],
   "source": [
    "# Visualisasi hasil perhitungan ICE dalam skala prioritas menurun\n",
    "hipothesis = hipothesis.sort_values(by='ICE', ascending=False)\n",
    "plt.figure(figsize=(6, 10))\n",
    "plt.barh(hipothesis['rice_hypothesis'], hipothesis['ICE'], color='limegreen')\n",
    "plt.xlabel('ICE Score')\n",
    "plt.ylabel('Hypotheses')\n",
    "plt.title('ICE Scores for Hypotheses')\n",
    "plt.show()"
   ]
  },
  {
   "cell_type": "markdown",
   "metadata": {},
   "source": [
    "**Kesimpulan Sementara**\n",
    "\n",
    "Berikut penerapkan Framework ICE secara menurun:\n",
    "\n",
    "| rice_hypothesis                                   | ICE       |\n",
    "|---------------------------------------------------|-----------|\n",
    "| 8  Launch a promotion that gives users discounts...| 16.200000 |\n",
    "| 0  Add two new channels for attracting traffic... | 13.333333 |\n",
    "| 7  Add a subscription form to all the main pages...| 11.200000 |\n",
    "| 6  Show banners with current offers and sales on...| 8.000000  |\n",
    "| 2  Add product recommendation blocks to the store...| 7.000000  |\n",
    "| 1  Launch your own delivery service. This will sh...| 2.000000  |\n",
    "| 5  Add a customer review page. This will increase...| 1.333333  |\n",
    "| 3  Change the category structure. This will incre...| 1.125000  |\n",
    "| 4  Change the background color on the main page....| 1.000000  |"
   ]
  },
  {
   "cell_type": "markdown",
   "metadata": {},
   "source": [
    "**3.1.2. Menerapkan Framework RICE**\n",
    "\n",
    "* Untuk memprioritaskan hipotesis. Urutkan hipotesis tersebut dalam urutan prioritas menurun."
   ]
  },
  {
   "cell_type": "code",
   "execution_count": 28,
   "metadata": {},
   "outputs": [
    {
     "name": "stdout",
     "output_type": "stream",
     "text": [
      "                                     rice_hypothesis   RICE\n",
      "7  Add a subscription form to all the main pages....  112.0\n",
      "2  Add product recommendation blocks to the store...   56.0\n",
      "0  Add two new channels for attracting traffic. T...   40.0\n",
      "6  Show banners with current offers and sales on ...   40.0\n",
      "8  Launch a promotion that gives users discounts ...   16.2\n",
      "3  Change the category structure. This will incre...    9.0\n",
      "1  Launch your own delivery service. This will sh...    4.0\n",
      "5  Add a customer review page. This will increase...    4.0\n",
      "4  Change the background color on the main page. ...    3.0\n"
     ]
    }
   ],
   "source": [
    "# Perhitungan framework RICE\n",
    "hipothesis['RICE'] = (hipothesis['reach'] * hipothesis['impact'] * hipothesis['confidence']) / hipothesis['effort']\n",
    "\n",
    "print(hipothesis[['rice_hypothesis', 'RICE']].sort_values(by= 'RICE', ascending = False))"
   ]
  },
  {
   "cell_type": "code",
   "execution_count": 29,
   "metadata": {},
   "outputs": [
    {
     "data": {
      "image/png": "[encoded data removed]",
      "text/plain": [
       "<Figure size 432x720 with 1 Axes>"
      ]
     },
     "metadata": {
      "needs_background": "light"
     },
     "output_type": "display_data"
    }
   ],
   "source": [
    "# Visualisasi hasil perhitungan RICE dalam skala prioritas menurun\n",
    "hipothesis = hipothesis.sort_values(by='RICE', ascending=False)\n",
    "plt.figure(figsize=(6, 10))\n",
    "plt.barh(hipothesis['rice_hypothesis'], hipothesis['RICE'], color='turquoise')\n",
    "plt.xlabel('RICE Score')\n",
    "plt.ylabel('Hypotheses')\n",
    "plt.title('RICE Scores for Hypotheses')\n",
    "plt.show()"
   ]
  },
  {
   "cell_type": "markdown",
   "metadata": {},
   "source": [
    "**Kesimpulan Sementara**\n",
    "\n",
    "Berikut penerapkan Framework RICE secara menurun:\n",
    "\n",
    "| rice_hypothesis                                   | RICE  |\n",
    "|---------------------------------------------------|-------|\n",
    "| 7  Add a subscription form to all the main pages...| 112.0 |\n",
    "| 2  Add product recommendation blocks to the store...|  56.0 |\n",
    "| 0  Add two new channels for attracting traffic...  |  40.0 |\n",
    "| 6  Show banners with current offers and sales on...|  40.0 |\n",
    "| 8  Launch a promotion that gives users discounts ...|  16.2 |\n",
    "| 3  Change the category structure. This will incre...|   9.0 |\n",
    "| 1  Launch your own delivery service. This will sh...|   4.0 |\n",
    "| 5  Add a customer review page. This will increase...|   4.0 |\n",
    "| 4  Change the background color on the main page....|   3.0 |"
   ]
  },
  {
   "cell_type": "markdown",
   "metadata": {},
   "source": [
    "**3.1.3 Menunjukkan Perubahan Prioritas Hipotesis saat RICE Diterapkan untuk Menggantikan ICE.**\n",
    "\n",
    "Kita akan memberikan penjelasan terkait perubahan tersebut. Perlu diingat kembali bahwa:\n",
    "**RICE terdiri atas empat komponen, yaitu:**\n",
    "\n",
    "| Komponen   | Deskripsi                                                |\n",
    "|------------|-----------------------------------------------------------|\n",
    "| **Reach**      | Berapa banyak pengguna yang akan terpengaruh              |\n",
    "| **Impact**     | Seberapa kuat pembaruan akan memengaruhi pengguna         |\n",
    "| **Confidence** | Seberapa yakin kamu bahwa pembaruan akan berhasil         |\n",
    "| **Effort**     | Berapa biaya yang dibutuhkan untuk menguji hipotesis      |\n"
   ]
  },
  {
   "cell_type": "markdown",
   "metadata": {},
   "source": [
    "**Kesimpulan Sementara**\n",
    "\n",
    "**<span style=\"color:blue\">Interpretasi Hasil ICE:</span>**\n",
    "\n",
    "**Top 3 Prioritas (Dengan Skor Tinggi):**\n",
    "\n",
    "* Launch a promotion that gives users discounts... (16.2): Hipotesis ini memiliki dampak dan keyakinan yang tinggi, dengan usaha yang relatif rendah.\n",
    "* Add two new channels for attracting traffic... (13.33): Memiliki dampak yang cukup tinggi dengan keyakinan yang baik, dan usaha yang relatif terjangkau.\n",
    "* Add a subscription form to all the main pages... (11.2): Memiliki dampak yang tinggi dengan keyakinan yang baik, dan usaha yang cukup terjangkau.\n",
    "\n",
    "**Bottom 3 Prioritas (Dengan Skor Rendah):**\n",
    "\n",
    "* Change the background color on the main page... (1.0): Memiliki skor rendah, mungkin karena dampak dan keyakinan yang rendah.\n",
    "* Add a customer review page... (1.33): Memiliki skor yang sedikit lebih tinggi tetapi masih relatif rendah.\n",
    "* Change the category structure... (1.13): Dengan skor yang rendah, mungkin karena dampak dan keyakinan yang rendah.\n",
    "\n",
    "**<span style=\"color:blue\">Interpretasi Hasil RICE:</span>**\n",
    "\n",
    "**Top 3 Prioritas (Dengan Skor Tinggi):**\n",
    "\n",
    "* Add a subscription form to all the main pages... (112.0): Hipotesis ini memiliki dampak, keyakinan, dan jangkauan yang tinggi, tetapi usaha yang relatif rendah.\n",
    "* Add product recommendation blocks to the store... (56.0): Memiliki dampak dan jangkauan yang tinggi, dengan usaha yang relatif terjangkau.\n",
    "* Add two new channels for attracting traffic... (40.0): Memiliki dampak dan jangkauan yang baik, dengan usaha yang relatif terjangkau.\n",
    "\n",
    "**Bottom 3 Prioritas (Dengan Skor Rendah):**\n",
    "\n",
    "* Change the background color on the main page... (3.0): Memiliki skor rendah, mungkin karena dampak dan jangkauan yang rendah.\n",
    "* Launch your own delivery service... (4.0): Memiliki skor yang sedikit lebih tinggi tetapi masih relatif rendah.\n",
    "* Add a customer review page... (4.0): Memiliki skor yang sama dengan hipotesis sebelumnya, mungkin karena dampak dan jangkauan yang rendah."
   ]
  },
  {
   "cell_type": "markdown",
   "metadata": {},
   "source": [
    "* Mari kita lihat ulang perbandingan dengan menyalin ulang ke bagian sub bab ini."
   ]
  },
  {
   "cell_type": "code",
   "execution_count": 30,
   "metadata": {},
   "outputs": [
    {
     "data": {
      "image/png": "[encoded data removed]",
      "text/plain": [
       "<Figure size 432x720 with 1 Axes>"
      ]
     },
     "metadata": {
      "needs_background": "light"
     },
     "output_type": "display_data"
    }
   ],
   "source": [
    "# Visualisasi hasil perhitungan ICE dalam skala prioritas menurun\n",
    "hipothesis = hipothesis.sort_values(by='ICE', ascending=False)\n",
    "plt.figure(figsize=(6, 10))\n",
    "plt.barh(hipothesis['rice_hypothesis'], hipothesis['ICE'], color='limegreen')\n",
    "plt.xlabel('ICE Score')\n",
    "plt.ylabel('Hypotheses')\n",
    "plt.title('ICE Scores for Hypotheses')\n",
    "plt.show()"
   ]
  },
  {
   "cell_type": "code",
   "execution_count": 31,
   "metadata": {},
   "outputs": [
    {
     "data": {
      "image/png": "[encoded data removed]",
      "text/plain": [
       "<Figure size 432x720 with 1 Axes>"
      ]
     },
     "metadata": {
      "needs_background": "light"
     },
     "output_type": "display_data"
    }
   ],
   "source": [
    "# Visualisasi hasil perhitungan RICE dalam skala prioritas menurun\n",
    "hipothesis = hipothesis.sort_values(by='RICE', ascending=False)\n",
    "plt.figure(figsize=(6, 10))\n",
    "plt.barh(hipothesis['rice_hypothesis'], hipothesis['RICE'], color='turquoise')\n",
    "plt.xlabel('RICE Score')\n",
    "plt.ylabel('Hypotheses')\n",
    "plt.title('RICE Scores for Hypotheses')\n",
    "plt.show()"
   ]
  },
  {
   "cell_type": "markdown",
   "metadata": {},
   "source": [
    "**Kesimpulan Sementara**\n",
    "\n",
    "Perbandingan: Terdapat perubahan prioritas yang cukup signifikan antara **ICE** dan **RICE**.\n",
    "\n",
    "* Hipotesis Add a subscription form to all the main pages. This will help you compile a mailing list melonjak ke posisi teratas dengan RICE karena memiliki jangkauan yang tinggi.\n",
    "* Hipotesis Launch a promotion that gives users discounts on their birthdays tetap tinggi, tetapi peringkatnya menurun karena RICE mempertimbangkan faktor jangkauan.\n",
    "* Prioritas hipotesis lainnya dapat juga mengalami perubahan, terutama jika jangkauan memainkan peran penting dalam konteks proyek atau pada strategi bisnis."
   ]
  },
  {
   "cell_type": "markdown",
   "metadata": {},
   "source": [
    "**3.2. Analisis A/B Testing**\n",
    "\n",
    "Melakukan A/B testing dan mendapatkan hasil seperti yang dideskripsikan dalam file `orders_us.csv` dan `visitors_us.csv` atau\n",
    "`analisa_orders = pd.read_csv('/datasets/orders_us.csv')` dan `analisa_visits = pd.read_csv('/datasets/visitors_us.csv')`"
   ]
  },
  {
   "cell_type": "markdown",
   "metadata": {},
   "source": [
    "**3.2.1. Gambarkan Pendapatan Kumulatif Berdasarkan Kelompok**\n",
    "\n",
    "      Membuat pendapatan kumulatif berdasarkan kelompok. Buat kesimpulan dan asumsinya."
   ]
  },
  {
   "cell_type": "code",
   "execution_count": 32,
   "metadata": {},
   "outputs": [],
   "source": [
    "# membuat variable ordersAggregated untuk menyimpan nilai kolom tertentu\n",
    "datesGroups = analisa_orders[['date', 'group']].drop_duplicates()\n",
    "ordersAggregated = datesGroups.apply(\n",
    "    lambda x: analisa_orders[\n",
    "        np.logical_and(\n",
    "            analisa_orders['date'] <= x['date'], analisa_orders['group'] == x['group']\n",
    "        )\n",
    "    ].agg(\n",
    "        {\n",
    "            'date': 'max',\n",
    "            'group': 'max',\n",
    "            'transaction_id': pd.Series.nunique,\n",
    "            'visitor_id': pd.Series.nunique,\n",
    "            'revenue': 'sum',\n",
    "        }\n",
    "    ),\n",
    "    axis=1,\n",
    ").sort_values(by=['date', 'group'])"
   ]
  },
  {
   "cell_type": "code",
   "execution_count": 33,
   "metadata": {},
   "outputs": [],
   "source": [
    "# membuat variable visitorsAggregated untuk menyimpan nilai kolom tertentu\n",
    "datesGroups = analisa_visits[['date', 'group']].drop_duplicates()\n",
    "visitorsAggregated = datesGroups.apply(\n",
    "    lambda x: analisa_visits[\n",
    "        np.logical_and(\n",
    "            analisa_visits['date'] <= x['date'], analisa_visits['group'] == x['group']\n",
    "        )\n",
    "    ].agg({'date': 'max', 'group': 'max', 'visits': 'sum'}),\n",
    "    axis=1,\n",
    ").sort_values(by=['date', 'group'])"
   ]
  },
  {
   "cell_type": "code",
   "execution_count": 34,
   "metadata": {},
   "outputs": [],
   "source": [
    "# menggabungkan ordersAggregated dan visitorsAggregated berdasarkan kolom 'date' dan 'group' menggunakan metode merge()\n",
    "cumulativeData = ordersAggregated.merge(\n",
    "    visitorsAggregated, left_on=['date', 'group'], right_on=['date', 'group']\n",
    ")\n",
    "cumulativeData.columns = [\n",
    "    'date',\n",
    "    'group',\n",
    "    'orders',\n",
    "    'buyers',\n",
    "    'revenue',\n",
    "    'visitors',\n",
    "]"
   ]
  },
  {
   "cell_type": "markdown",
   "metadata": {},
   "source": [
    "* Menentukan variabel cumulativeData dengan menggabungkan ordersAggregated dan visitorsAggregated berdasarkan kolom date dan group menggunakan metode merge()."
   ]
  },
  {
   "cell_type": "code",
   "execution_count": 35,
   "metadata": {},
   "outputs": [
    {
     "data": {
      "text/html": [
       "<div>\n",
       "<style scoped>\n",
       "    .dataframe tbody tr th:only-of-type {\n",
       "        vertical-align: middle;\n",
       "    }\n",
       "\n",
       "    .dataframe tbody tr th {\n",
       "        vertical-align: top;\n",
       "    }\n",
       "\n",
       "    .dataframe thead th {\n",
       "        text-align: right;\n",
       "    }\n",
       "</style>\n",
       "<table border=\"1\" class=\"dataframe\">\n",
       "  <thead>\n",
       "    <tr style=\"text-align: right;\">\n",
       "      <th></th>\n",
       "      <th>date</th>\n",
       "      <th>group</th>\n",
       "      <th>orders</th>\n",
       "      <th>buyers</th>\n",
       "      <th>revenue</th>\n",
       "      <th>visitors</th>\n",
       "    </tr>\n",
       "  </thead>\n",
       "  <tbody>\n",
       "    <tr>\n",
       "      <th>0</th>\n",
       "      <td>2019-08-01</td>\n",
       "      <td>A</td>\n",
       "      <td>24</td>\n",
       "      <td>20</td>\n",
       "      <td>2356.8</td>\n",
       "      <td>719</td>\n",
       "    </tr>\n",
       "    <tr>\n",
       "      <th>1</th>\n",
       "      <td>2019-08-01</td>\n",
       "      <td>B</td>\n",
       "      <td>21</td>\n",
       "      <td>20</td>\n",
       "      <td>1620.0</td>\n",
       "      <td>713</td>\n",
       "    </tr>\n",
       "    <tr>\n",
       "      <th>2</th>\n",
       "      <td>2019-08-02</td>\n",
       "      <td>A</td>\n",
       "      <td>44</td>\n",
       "      <td>38</td>\n",
       "      <td>3860.3</td>\n",
       "      <td>1338</td>\n",
       "    </tr>\n",
       "    <tr>\n",
       "      <th>3</th>\n",
       "      <td>2019-08-02</td>\n",
       "      <td>B</td>\n",
       "      <td>45</td>\n",
       "      <td>43</td>\n",
       "      <td>4243.8</td>\n",
       "      <td>1294</td>\n",
       "    </tr>\n",
       "    <tr>\n",
       "      <th>4</th>\n",
       "      <td>2019-08-03</td>\n",
       "      <td>A</td>\n",
       "      <td>68</td>\n",
       "      <td>62</td>\n",
       "      <td>5675.5</td>\n",
       "      <td>1845</td>\n",
       "    </tr>\n",
       "    <tr>\n",
       "      <th>...</th>\n",
       "      <td>...</td>\n",
       "      <td>...</td>\n",
       "      <td>...</td>\n",
       "      <td>...</td>\n",
       "      <td>...</td>\n",
       "      <td>...</td>\n",
       "    </tr>\n",
       "    <tr>\n",
       "      <th>57</th>\n",
       "      <td>2019-08-29</td>\n",
       "      <td>B</td>\n",
       "      <td>596</td>\n",
       "      <td>544</td>\n",
       "      <td>87343.0</td>\n",
       "      <td>17708</td>\n",
       "    </tr>\n",
       "    <tr>\n",
       "      <th>58</th>\n",
       "      <td>2019-08-30</td>\n",
       "      <td>A</td>\n",
       "      <td>545</td>\n",
       "      <td>493</td>\n",
       "      <td>63563.5</td>\n",
       "      <td>18037</td>\n",
       "    </tr>\n",
       "    <tr>\n",
       "      <th>59</th>\n",
       "      <td>2019-08-30</td>\n",
       "      <td>B</td>\n",
       "      <td>620</td>\n",
       "      <td>567</td>\n",
       "      <td>90736.3</td>\n",
       "      <td>18198</td>\n",
       "    </tr>\n",
       "    <tr>\n",
       "      <th>60</th>\n",
       "      <td>2019-08-31</td>\n",
       "      <td>A</td>\n",
       "      <td>557</td>\n",
       "      <td>503</td>\n",
       "      <td>64554.9</td>\n",
       "      <td>18736</td>\n",
       "    </tr>\n",
       "    <tr>\n",
       "      <th>61</th>\n",
       "      <td>2019-08-31</td>\n",
       "      <td>B</td>\n",
       "      <td>640</td>\n",
       "      <td>586</td>\n",
       "      <td>92840.6</td>\n",
       "      <td>18916</td>\n",
       "    </tr>\n",
       "  </tbody>\n",
       "</table>\n",
       "<p>62 rows × 6 columns</p>\n",
       "</div>"
      ],
      "text/plain": [
       "         date group  orders  buyers  revenue  visitors\n",
       "0  2019-08-01     A      24      20   2356.8       719\n",
       "1  2019-08-01     B      21      20   1620.0       713\n",
       "2  2019-08-02     A      44      38   3860.3      1338\n",
       "3  2019-08-02     B      45      43   4243.8      1294\n",
       "4  2019-08-03     A      68      62   5675.5      1845\n",
       "..        ...   ...     ...     ...      ...       ...\n",
       "57 2019-08-29     B     596     544  87343.0     17708\n",
       "58 2019-08-30     A     545     493  63563.5     18037\n",
       "59 2019-08-30     B     620     567  90736.3     18198\n",
       "60 2019-08-31     A     557     503  64554.9     18736\n",
       "61 2019-08-31     B     640     586  92840.6     18916\n",
       "\n",
       "[62 rows x 6 columns]"
      ]
     },
     "execution_count": 35,
     "metadata": {},
     "output_type": "execute_result"
    }
   ],
   "source": [
    "# Memeriksa cumulativeData yang telah dibuat\n",
    "cumulativeData"
   ]
  },
  {
   "cell_type": "markdown",
   "metadata": {},
   "source": [
    "**Berikut dibawah ini visualisasi dari cumulativeRevenue A dan cumulativeRevenue B**"
   ]
  },
  {
   "cell_type": "code",
   "execution_count": 36,
   "metadata": {},
   "outputs": [
    {
     "data": {
      "image/png": "[encoded data removed]",
      "text/plain": [
       "<Figure size 864x432 with 1 Axes>"
      ]
     },
     "metadata": {
      "needs_background": "light"
     },
     "output_type": "display_data"
    }
   ],
   "source": [
    "# Membuat grafik pendapatan kumulatif harian untuk tiap-tiap kelompoknya.\n",
    "cumulativeRevenueA = cumulativeData[cumulativeData['group']=='A'][['date','revenue', 'orders']]\n",
    "cumulativeRevenueB = cumulativeData[cumulativeData['group']=='B'][['date','revenue', 'orders']]\n",
    "\n",
    "# Membuat grafik pendapatan kelompok A \n",
    "plt.figure(figsize=(12, 6))\n",
    "plt.plot(cumulativeRevenueA['date'], cumulativeRevenueA['revenue'], label='A', color='red')\n",
    "\n",
    "# Membuat grafik pendapatan kelompok B\n",
    "plt.plot(cumulativeRevenueB['date'], cumulativeRevenueB['revenue'], label='B', color='green')\n",
    "\n",
    "plt.legend() \n",
    "plt.show()"
   ]
  },
  {
   "cell_type": "markdown",
   "metadata": {},
   "source": [
    "**Kesimpulan Sementara**\n",
    "\n",
    "<span style=\"color:blue\">Untuk segment A(cumulativeRevenueA) terlihat lebih rendah dari pada segment B(cumulativeRevenueB). Terlihat bahwa segment B lebih konsisten untuk naik dari pada segment A.</span>"
   ]
  },
  {
   "cell_type": "markdown",
   "metadata": {},
   "source": [
    "**3.2.2. Gambarkan Ukuran Pesanan Rata-Rata Kumulatif Berdasarkan Kelompok**\n",
    "\n",
    "      Mengukur pesanan rata-rata kumulatif berdasarkan kelompok. Buat kesimpulan dan asumsinya."
   ]
  },
  {
   "cell_type": "code",
   "execution_count": 37,
   "metadata": {},
   "outputs": [
    {
     "data": {
      "text/plain": [
       "<matplotlib.legend.Legend at 0x7f3a053efe50>"
      ]
     },
     "execution_count": 37,
     "metadata": {},
     "output_type": "execute_result"
    },
    {
     "data": {
      "image/png": "[encoded data removed]",
      "text/plain": [
       "<Figure size 864x432 with 1 Axes>"
      ]
     },
     "metadata": {
      "needs_background": "light"
     },
     "output_type": "display_data"
    }
   ],
   "source": [
    "# Mengukur pesanan rata-rata kumulatif berdasarkan kelompok\n",
    "cumulativeRevenueA = cumulativeData[cumulativeData['group'] == 'A'][\n",
    "    ['date', 'revenue', 'orders']\n",
    "]\n",
    "cumulativeRevenueB = cumulativeData[cumulativeData['group'] == 'B'][\n",
    "    ['date', 'revenue', 'orders']\n",
    "]\n",
    "\n",
    "plt.figure(figsize=(12, 6))\n",
    "plt.plot(cumulativeRevenueA['date'], cumulativeRevenueA['revenue']/cumulativeRevenueA['orders'], label='A', color='red')\n",
    "plt.plot(cumulativeRevenueB['date'], cumulativeRevenueB['revenue']/cumulativeRevenueB['orders'], label='B', color='green')\n",
    "plt.legend() "
   ]
  },
  {
   "cell_type": "markdown",
   "metadata": {},
   "source": [
    "**Kesimpulannya**\n",
    "\n",
    "<span style=\"color:blue\">Rata-rata ukuran pesanan kumulatif di pertengahan terlihat segment A jauh melancip lebih unggul. Namun setelah itu mengalami penurunan drastis. Kenaikan sangat drastis setelah dari pertengahan tersebut berada segment B yaitu mengalami kenaikan yang sangat signifikan dan mengungguli segment A di setiap tanggal.</span>"
   ]
  },
  {
   "cell_type": "markdown",
   "metadata": {},
   "source": [
    "**3.2.3. Gambarkan Perbedaan Relatif untuk Ukuran Pesanan Rata-Rata Kumulatif**\n",
    "\n",
    "      Mengelompokan B yang dibandingkan dengan kelompok A. Buat kesimpulan dan asumsinya."
   ]
  },
  {
   "cell_type": "code",
   "execution_count": 38,
   "metadata": {},
   "outputs": [
    {
     "data": {
      "text/plain": [
       "<matplotlib.lines.Line2D at 0x7f3a04e99e50>"
      ]
     },
     "execution_count": 38,
     "metadata": {},
     "output_type": "execute_result"
    },
    {
     "data": {
      "image/png": "[encoded data removed]",
      "text/plain": [
       "<Figure size 864x432 with 1 Axes>"
      ]
     },
     "metadata": {
      "needs_background": "light"
     },
     "output_type": "display_data"
    }
   ],
   "source": [
    "# Mengumpulkan data menjadi satu DataFrame\n",
    "mergedCumulativeRevenue = cumulativeRevenueA.merge(cumulativeRevenueB, left_on='date', right_on='date', how='left', suffixes=['A', 'B'])\n",
    "\n",
    "# Membuat grafik perbedaan relatif untuk jumlah pembelian rata-rata\n",
    "\n",
    "plt.figure(figsize=(12, 6))\n",
    "plt.plot(mergedCumulativeRevenue['date'], (mergedCumulativeRevenue['revenueB']/mergedCumulativeRevenue['ordersB'])/(mergedCumulativeRevenue['revenueA']/mergedCumulativeRevenue['ordersA'])-1)\n",
    "\n",
    "# Menambahkan sumbu X\n",
    "plt.axhline(y=0, color='black', linestyle='--')"
   ]
  },
  {
   "cell_type": "markdown",
   "metadata": {},
   "source": [
    "**Kesimpulan Sementara**\n",
    "\n",
    "<span style=\"color:blue\">Di beberapa titik terdapat segment yang meningkat secara drastis dan juga menurun cukup drastis. Kita belum mengetahui apakah terdapat outlier atau tidak untuk hasil yang divisualisasikan.</span>"
   ]
  },
  {
   "cell_type": "markdown",
   "metadata": {},
   "source": [
    "**3.2.4. Gambarkan Konversi Kumulatif Berdasarkan Kelompok**\n",
    "\n",
    "      Membuat konversi kumulatif berdasarkan kelompok. Buat kesimpulan dan asumsinya."
   ]
  },
  {
   "cell_type": "code",
   "execution_count": 39,
   "metadata": {},
   "outputs": [
    {
     "data": {
      "text/plain": [
       "(18109.0, 18139.0, 0.0, 0.05)"
      ]
     },
     "execution_count": 39,
     "metadata": {},
     "output_type": "execute_result"
    },
    {
     "data": {
      "image/png": "[encoded data removed]",
      "text/plain": [
       "<Figure size 864x432 with 1 Axes>"
      ]
     },
     "metadata": {
      "needs_background": "light"
     },
     "output_type": "display_data"
    }
   ],
   "source": [
    "# Menghitung konversi kumulatif\n",
    "cumulativeData['conversion'] = cumulativeData['orders']/cumulativeData['visitors']\n",
    "\n",
    "# Memilih data di kelompok A\n",
    "cumulativeDataA = cumulativeData[cumulativeData['group']=='A']\n",
    "\n",
    "# Memilih data di kelompok B\n",
    "cumulativeDataB = cumulativeData[cumulativeData['group']=='B']\n",
    "\n",
    "\n",
    "# Membuat grafik\n",
    "plt.figure(figsize=(12, 6))\n",
    "plt.plot(cumulativeDataA['date'], cumulativeDataA['conversion'], label='A', color='red')\n",
    "plt.plot(cumulativeDataB['date'], cumulativeDataB['conversion'], label='B', color='green')\n",
    "plt.legend()\n",
    "\n",
    "# Mengatur skala sumbu\n",
    "plt.axis([pd.to_datetime('2019-08-01'), pd.to_datetime('2019-08-31'), 0, 0.05])"
   ]
  },
  {
   "cell_type": "markdown",
   "metadata": {},
   "source": [
    "**Kesimpulan Sementara**\n",
    "\n",
    "<span style=\"color:blue\">Dari segment yang kita set harian yaitu `2019-08-01`  hingga `2019-08-31` , kita bisa lihat bahwa diawal hari, segment B lebih rendah dari pada segment A. Namun peningkatan yang cukup sederhana dari segment B membuat segment tersebut cukup konsisten dan lebih tinggi dari pada segment A.</span>"
   ]
  },
  {
   "cell_type": "markdown",
   "metadata": {},
   "source": [
    "**3.2.5. Gambarkan Perbedaan Relatif untuk Tingkat Konversi kumulatif kelompok B yang Dibandingkan dengan Kelompok A**\n",
    "\n",
    "      Membuat perbedaan relatif untuk tingkat konversi kumulatif kelompok B yang dibandingkan dengan kelompok A. Buat kesimpulan dan asumsinya."
   ]
  },
  {
   "cell_type": "code",
   "execution_count": 40,
   "metadata": {},
   "outputs": [
    {
     "data": {
      "text/plain": [
       "(18109.0, 18139.0, -0.5, 0.5)"
      ]
     },
     "execution_count": 40,
     "metadata": {},
     "output_type": "execute_result"
    },
    {
     "data": {
      "image/png": "[encoded data removed]",
      "text/plain": [
       "<Figure size 864x432 with 1 Axes>"
      ]
     },
     "metadata": {
      "needs_background": "light"
     },
     "output_type": "display_data"
    }
   ],
   "source": [
    "\n",
    "# Gambarkan Perbedaan Relatif untuk Tingkat Konversi kumulatif kelompok B yang Dibandingkan dengan Kelompok A\n",
    "cumulativeData['conversion'] = (\n",
    "    cumulativeData['orders'] / cumulativeData['visitors']\n",
    ")\n",
    "\n",
    "cumulativeDataA = cumulativeData[cumulativeData['group'] == 'A']\n",
    "cumulativeDataB = cumulativeData[cumulativeData['group'] == 'B']\n",
    "\n",
    "\n",
    "mergedCumulativeConversions = cumulativeDataA[['date', 'conversion']].merge(\n",
    "    cumulativeDataB[['date', 'conversion']],\n",
    "    left_on='date',\n",
    "    right_on='date',\n",
    "    how='left',\n",
    "    suffixes=['A', 'B'],\n",
    ")\n",
    "\n",
    "\n",
    "plt.figure(figsize=(12, 6))\n",
    "plt.plot(\n",
    "    mergedCumulativeConversions['date'],\n",
    "    mergedCumulativeConversions['conversionB']\n",
    "    / mergedCumulativeConversions['conversionA']\n",
    "    - 1,\n",
    ")\n",
    "plt.axhline(y=0, color='green', linestyle='--')\n",
    "plt.axhline(y=0.2, color='red', linestyle='--')\n",
    "plt.axis([pd.to_datetime('2019-08-01'), pd.to_datetime('2019-08-31'), -0.5, 0.5])"
   ]
  },
  {
   "cell_type": "markdown",
   "metadata": {},
   "source": [
    "**Kesimpulan Sementara**\n",
    "\n",
    "<span style=\"color:blue\">Secara konversi untuk di awal, mengalami kenaikan sedikit tinggi. Di pertengahan, segment konversi tersebut tidak lah tinggi dan tidak lah rendah.</span>"
   ]
  },
  {
   "cell_type": "markdown",
   "metadata": {},
   "source": [
    "**3.2.6. Hitung Tingkat Konversi Setiap Kelompok Sebagai Rasio Pesanan Terhadap Jumlah Kunjungan Setiap Hari**\n",
    "\n",
    "      Membuat grafik tingkat konversi harian dari kedua kelompok dan jelaskan perbedaannya. Buat kesimpulan dan asumsinya."
   ]
  },
  {
   "cell_type": "code",
   "execution_count": 41,
   "metadata": {},
   "outputs": [
    {
     "data": {
      "image/png": "[encoded data removed]",
      "text/plain": [
       "<Figure size 864x432 with 1 Axes>"
      ]
     },
     "metadata": {
      "needs_background": "light"
     },
     "output_type": "display_data"
    }
   ],
   "source": [
    "# Hitung rasio konversi harian\n",
    "cumulativeData['daily_conversion'] = cumulativeData['orders'] / cumulativeData['visitors']\n",
    "\n",
    "# Pisahkan data berdasarkan kelompok A dan B\n",
    "dailyConversionA = cumulativeData[cumulativeData['group'] == 'A'][['date', 'daily_conversion']]\n",
    "dailyConversionB = cumulativeData[cumulativeData['group'] == 'B'][['date', 'daily_conversion']]\n",
    "\n",
    "# Buat grafik tingkat konversi harian\n",
    "plt.figure(figsize=(12, 6))\n",
    "plt.plot(dailyConversionA['date'], dailyConversionA['daily_conversion'], label='Group A', color='red')\n",
    "plt.plot(dailyConversionB['date'], dailyConversionB['daily_conversion'], label='Group B', color='green')\n",
    "plt.title('Daily Conversion Rate by Group')\n",
    "plt.xlabel('Date')\n",
    "plt.ylabel('Conversion Rate')\n",
    "plt.legend()\n",
    "plt.show()"
   ]
  },
  {
   "cell_type": "markdown",
   "metadata": {},
   "source": [
    "**Kesimpulan Sementara**\n",
    "\n",
    "<span style=\"color:blue\">Bisa kita lihat bahwa rasio kunjungan setiap hari pada segment A memiliki awal yang cukup tinggi namun mengalami penurunan secara drastis setiap harinya. Pada segment B mengalami kenaikan dan cukup fluktatif untuk beberapa hari di awal. Kenaikan ini cukup signifikan dan semkakin ke depan segment A tidak bisa sama sekali tidak bisa menggunguli segment B.</span>"
   ]
  },
  {
   "cell_type": "markdown",
   "metadata": {},
   "source": [
    "**3.2.7. Buat Diagram Tebar (scatter chart) Untuk Jumlah Pesanan Setiap Pengguna**\n",
    "\n",
    "      Membuat diagram scatter chart dan membuat asumsi dan kesimpulan"
   ]
  },
  {
   "cell_type": "code",
   "execution_count": 42,
   "metadata": {},
   "outputs": [
    {
     "name": "stdout",
     "output_type": "stream",
     "text": [
      "      visitor_id  orders\n",
      "1023  4256040402      11\n",
      "591   2458001652      11\n",
      "569   2378935119       9\n",
      "487   2038680547       8\n",
      "44     199603092       5\n",
      "744   3062433592       5\n",
      "55     237748145       5\n",
      "917   3803269165       5\n",
      "299   1230306981       5\n",
      "897   3717692402       5\n"
     ]
    },
    {
     "data": {
      "text/plain": [
       "<matplotlib.collections.PathCollection at 0x7f3a0573c460>"
      ]
     },
     "execution_count": 42,
     "metadata": {},
     "output_type": "execute_result"
    },
    {
     "data": {
      "image/png": "[encoded data removed]",
      "text/plain": [
       "<Figure size 864x432 with 1 Axes>"
      ]
     },
     "metadata": {
      "needs_background": "light"
     },
     "output_type": "display_data"
    }
   ],
   "source": [
    "# Membuat diagram scatter dan jumlah order untuk melihat distribusi\n",
    "ordersByUsers = (\n",
    "    analisa_orders.drop(['group', 'revenue', 'date'], axis=1)\n",
    "    .groupby('visitor_id', as_index=False)\n",
    "    .agg({'transaction_id': pd.Series.nunique})\n",
    ")\n",
    "ordersByUsers.columns = ['visitor_id', 'orders']\n",
    "\n",
    "print(ordersByUsers.sort_values(by='orders', ascending=False).head(10))\n",
    "\n",
    "# rentang angka dari 0 hingga jumlah observasi di ordersByUsers\n",
    "x_values = pd.Series(range(0,len(ordersByUsers)))\n",
    "\n",
    "plt.figure(figsize=(12, 6))\n",
    "plt.scatter(x_values, ordersByUsers['orders'])"
   ]
  },
  {
   "cell_type": "markdown",
   "metadata": {},
   "source": [
    "**Kesimpulan Sementara**\n",
    "\n",
    "<span style=\"color:blue\">Dari scatter plot yang ditampiikan, terdapat banyak nilai outliers serta beberapa distribusi yang tidak normal. Hal ini bisa saja disebabkan oleh nilai yang anomali atau kesalahan pada input data.</span>"
   ]
  },
  {
   "cell_type": "markdown",
   "metadata": {},
   "source": [
    "**3.2.8. Hitung Persentil ke-95 dan ke-99 untuk Jumlah Pesanan Setiap Pengguna**\n",
    "\n",
    "      Di sini kita tentukan titik ketika suatu titik data berubah menjadi anomali."
   ]
  },
  {
   "cell_type": "code",
   "execution_count": 43,
   "metadata": {},
   "outputs": [
    {
     "name": "stdout",
     "output_type": "stream",
     "text": [
      "      visitor_id  orders\n",
      "1023  4256040402      11\n",
      "591   2458001652      11\n",
      "569   2378935119       9\n",
      "487   2038680547       8\n",
      "44     199603092       5\n",
      "744   3062433592       5\n",
      "55     237748145       5\n",
      "917   3803269165       5\n",
      "299   1230306981       5\n",
      "897   3717692402       5\n",
      "[2. 4.]\n"
     ]
    }
   ],
   "source": [
    "# Melihat kembali distribusi yang ditampilkan sebagai pembanding\n",
    "print(ordersByUsers.sort_values(by='orders', ascending=False).head(10))\n",
    "# Metode np.percentile('column', [percentile1, persentil2, persentil3]) menghitung persentil.\n",
    "print(np.percentile(ordersByUsers['orders'], [95, 99]))"
   ]
  },
  {
   "cell_type": "markdown",
   "metadata": {},
   "source": [
    "**Kesimpulan Sementara**\n",
    "\n",
    "1. **Persentil ke-95**: <span style=\"color:blue\">Nilai 2 mungkin menunjukkan bahwa 95% dari jumlah pesanan per pengguna berada di level 2 atau kurang. Dengan kata lain, sebagian besar pengguna memiliki jumlah pesanan yang relatif rendah.</span>\n",
    "2. **Persentil ke-99**: <span style=\"color:blue\">Nilai 4 mungkin menunjukkan bahwa 99% dari jumlah pesanan per pengguna berada di level 4 atau kurang. Ini menunjukkan bahwa hanya sebagian kecil pengguna (1% teratas) yang memiliki jumlah pesanan yang lebih tinggi, dan nilai 4 dapat dianggap sebagai batas atas yang mewakili titik anomali atau nilai yang signifikan.</span>"
   ]
  },
  {
   "cell_type": "markdown",
   "metadata": {},
   "source": [
    "**3.2.9. Buat Diagram Tebar (scatter chart) untuk Harga Pesanan**\n",
    "\n",
    "      Membuat (scatter chart) untuk harga pesanan. Buat kesimpulan dan asumsinya."
   ]
  },
  {
   "cell_type": "code",
   "execution_count": 44,
   "metadata": {},
   "outputs": [
    {
     "name": "stdout",
     "output_type": "stream",
     "text": [
      "      transaction_id  visitor_id       date  revenue group\n",
      "425        590470918  1920142716 2019-08-19  19920.4     B\n",
      "1196      3936777065  2108080724 2019-08-15   3120.1     B\n",
      "858        192721366  1316129916 2019-08-27   1450.2     A\n",
      "1136       666610489  1307669133 2019-08-13   1425.8     A\n",
      "744       3668308183   888512513 2019-08-27   1335.6     B\n",
      "662       1811671147  4266935830 2019-08-29   1220.2     A\n",
      "682       1216533772  4266935830 2019-08-29   1220.2     B\n",
      "743       3603576309  4133034833 2019-08-09   1050.0     A\n",
      "1103      1348774318  1164614297 2019-08-12   1025.8     A\n",
      "1099       316924019   148427295 2019-08-12   1015.9     A\n"
     ]
    },
    {
     "data": {
      "text/plain": [
       "<matplotlib.collections.PathCollection at 0x7f3a05756820>"
      ]
     },
     "execution_count": 44,
     "metadata": {},
     "output_type": "execute_result"
    },
    {
     "data": {
      "image/png": "[encoded data removed]",
      "text/plain": [
       "<Figure size 864x432 with 1 Axes>"
      ]
     },
     "metadata": {
      "needs_background": "light"
     },
     "output_type": "display_data"
    }
   ],
   "source": [
    "# Membuat diagram scatter dan jumlah order untuk melihat distribusi\n",
    "print(analisa_orders.sort_values(by='revenue',ascending=False).head(10))\n",
    "x_values = pd.Series(range(0,len(analisa_orders['revenue'])))\n",
    "\n",
    "plt.figure(figsize=(12, 6))\n",
    "plt.scatter(x_values, analisa_orders['revenue'])"
   ]
  },
  {
   "cell_type": "markdown",
   "metadata": {},
   "source": [
    "**Kesimpulan Sementara**\n",
    "\n",
    "<span style=\"color:blue\">Jumlah harga untuk scatter chart, terdapat hanya 1 yang berada di atas 2.500. Banyak yang membeli dengan harga di bawah 2.500. Serta terdapat sebuah outlier di angka 20.000. </span>"
   ]
  },
  {
   "cell_type": "markdown",
   "metadata": {},
   "source": [
    "**3.2.10. Hitung Persentil ke-95 dan ke-99 untuk Harga Pesanan**\n",
    "\n",
    "      Tentukan titik ketika suatu titik data berubah menjadi anomali "
   ]
  },
  {
   "cell_type": "code",
   "execution_count": 45,
   "metadata": {},
   "outputs": [
    {
     "name": "stdout",
     "output_type": "stream",
     "text": [
      "   transaction_id  visitor_id       date  revenue group\n",
      "0      3667963787  3312258926 2019-08-15     30.4     B\n",
      "1      2804400009  3642806036 2019-08-15     15.2     B\n",
      "2      2961555356  4069496402 2019-08-15     10.2     A\n",
      "3      3797467345  1196621759 2019-08-15    155.1     B\n",
      "4      2282983706  2322279887 2019-08-15     40.5     B\n",
      "5       182168103   935554773 2019-08-15     35.0     B\n",
      "6       398296753  2900797465 2019-08-15     30.6     B\n",
      "7      2626614568    78758296 2019-08-15     20.1     A\n",
      "8      1576988021   295230930 2019-08-15    215.9     A\n",
      "9      1506739906  1882260405 2019-08-15     30.5     B\n",
      "[435.54  900.904]\n"
     ]
    }
   ],
   "source": [
    "# Menghitung persentil sampel ke-95, dan ke-99 untuk pendapatan pesanan per pengguna \n",
    "print(analisa_orders.head(10))\n",
    "\n",
    "print(np.percentile(analisa_orders['revenue'], [95,99]))"
   ]
  },
  {
   "cell_type": "code",
   "execution_count": 46,
   "metadata": {},
   "outputs": [
    {
     "data": {
      "text/html": [
       "<div>\n",
       "<style scoped>\n",
       "    .dataframe tbody tr th:only-of-type {\n",
       "        vertical-align: middle;\n",
       "    }\n",
       "\n",
       "    .dataframe tbody tr th {\n",
       "        vertical-align: top;\n",
       "    }\n",
       "\n",
       "    .dataframe thead th {\n",
       "        text-align: right;\n",
       "    }\n",
       "</style>\n",
       "<table border=\"1\" class=\"dataframe\">\n",
       "  <thead>\n",
       "    <tr style=\"text-align: right;\">\n",
       "      <th></th>\n",
       "      <th>transaction_id</th>\n",
       "      <th>visitor_id</th>\n",
       "      <th>date</th>\n",
       "      <th>revenue</th>\n",
       "      <th>group</th>\n",
       "    </tr>\n",
       "  </thead>\n",
       "  <tbody>\n",
       "    <tr>\n",
       "      <th>425</th>\n",
       "      <td>590470918</td>\n",
       "      <td>1920142716</td>\n",
       "      <td>2019-08-19</td>\n",
       "      <td>19920.4</td>\n",
       "      <td>B</td>\n",
       "    </tr>\n",
       "    <tr>\n",
       "      <th>662</th>\n",
       "      <td>1811671147</td>\n",
       "      <td>4266935830</td>\n",
       "      <td>2019-08-29</td>\n",
       "      <td>1220.2</td>\n",
       "      <td>A</td>\n",
       "    </tr>\n",
       "    <tr>\n",
       "      <th>682</th>\n",
       "      <td>1216533772</td>\n",
       "      <td>4266935830</td>\n",
       "      <td>2019-08-29</td>\n",
       "      <td>1220.2</td>\n",
       "      <td>B</td>\n",
       "    </tr>\n",
       "    <tr>\n",
       "      <th>743</th>\n",
       "      <td>3603576309</td>\n",
       "      <td>4133034833</td>\n",
       "      <td>2019-08-09</td>\n",
       "      <td>1050.0</td>\n",
       "      <td>A</td>\n",
       "    </tr>\n",
       "    <tr>\n",
       "      <th>744</th>\n",
       "      <td>3668308183</td>\n",
       "      <td>888512513</td>\n",
       "      <td>2019-08-27</td>\n",
       "      <td>1335.6</td>\n",
       "      <td>B</td>\n",
       "    </tr>\n",
       "    <tr>\n",
       "      <th>858</th>\n",
       "      <td>192721366</td>\n",
       "      <td>1316129916</td>\n",
       "      <td>2019-08-27</td>\n",
       "      <td>1450.2</td>\n",
       "      <td>A</td>\n",
       "    </tr>\n",
       "    <tr>\n",
       "      <th>940</th>\n",
       "      <td>2420050534</td>\n",
       "      <td>4003628586</td>\n",
       "      <td>2019-08-08</td>\n",
       "      <td>905.8</td>\n",
       "      <td>B</td>\n",
       "    </tr>\n",
       "    <tr>\n",
       "      <th>949</th>\n",
       "      <td>1347999392</td>\n",
       "      <td>887908475</td>\n",
       "      <td>2019-08-21</td>\n",
       "      <td>930.0</td>\n",
       "      <td>A</td>\n",
       "    </tr>\n",
       "    <tr>\n",
       "      <th>1099</th>\n",
       "      <td>316924019</td>\n",
       "      <td>148427295</td>\n",
       "      <td>2019-08-12</td>\n",
       "      <td>1015.9</td>\n",
       "      <td>A</td>\n",
       "    </tr>\n",
       "    <tr>\n",
       "      <th>1103</th>\n",
       "      <td>1348774318</td>\n",
       "      <td>1164614297</td>\n",
       "      <td>2019-08-12</td>\n",
       "      <td>1025.8</td>\n",
       "      <td>A</td>\n",
       "    </tr>\n",
       "    <tr>\n",
       "      <th>1136</th>\n",
       "      <td>666610489</td>\n",
       "      <td>1307669133</td>\n",
       "      <td>2019-08-13</td>\n",
       "      <td>1425.8</td>\n",
       "      <td>A</td>\n",
       "    </tr>\n",
       "    <tr>\n",
       "      <th>1196</th>\n",
       "      <td>3936777065</td>\n",
       "      <td>2108080724</td>\n",
       "      <td>2019-08-15</td>\n",
       "      <td>3120.1</td>\n",
       "      <td>B</td>\n",
       "    </tr>\n",
       "  </tbody>\n",
       "</table>\n",
       "</div>"
      ],
      "text/plain": [
       "      transaction_id  visitor_id       date  revenue group\n",
       "425        590470918  1920142716 2019-08-19  19920.4     B\n",
       "662       1811671147  4266935830 2019-08-29   1220.2     A\n",
       "682       1216533772  4266935830 2019-08-29   1220.2     B\n",
       "743       3603576309  4133034833 2019-08-09   1050.0     A\n",
       "744       3668308183   888512513 2019-08-27   1335.6     B\n",
       "858        192721366  1316129916 2019-08-27   1450.2     A\n",
       "940       2420050534  4003628586 2019-08-08    905.8     B\n",
       "949       1347999392   887908475 2019-08-21    930.0     A\n",
       "1099       316924019   148427295 2019-08-12   1015.9     A\n",
       "1103      1348774318  1164614297 2019-08-12   1025.8     A\n",
       "1136       666610489  1307669133 2019-08-13   1425.8     A\n",
       "1196      3936777065  2108080724 2019-08-15   3120.1     B"
      ]
     },
     "execution_count": 46,
     "metadata": {},
     "output_type": "execute_result"
    }
   ],
   "source": [
    "# Ambang batas persentil ke-99\n",
    "threshold = 900.904\n",
    "\n",
    "# Identifikasi anomali\n",
    "anomaly_data = analisa_orders[analisa_orders['revenue'] > threshold]\n",
    "\n",
    "# Tampilkan data anomali\n",
    "anomaly_data"
   ]
  },
  {
   "cell_type": "markdown",
   "metadata": {},
   "source": [
    "**Kesimpulan Sementara**\n",
    "\n",
    "1. **Persentil ke-95**: <span style=\"color:blue\">Nilai 435.54 menunjukkan bahwa 95% dari data pendapatan pesanan per pengguna berada di bawah atau sama dengan 435.54. Dengan kata lain, sebagian besar transaksi memiliki pendapatan kurang dari 435.54.</span>\n",
    "2. **Persentil ke-99**: <span style=\"color:blue\">Nilai 900.904 menunjukkan bahwa 99% dari data pendapatan pesanan per pengguna berada di bawah atau sama dengan 900.904. Ini menunjukkan bahwa sebagian besar transaksi, 99% dari total, memiliki pendapatan kurang dari 900.904.</span>\n",
    "3. <span style=\"color:blue\">Bisa dipastikan dengan batas ke-99. terdapat beberapa nilai anomali.</span>"
   ]
  },
  {
   "cell_type": "markdown",
   "metadata": {},
   "source": [
    "**3.2.11. Temukan Signifikansi Statistik Perbedaan Konversi antar Kelompok Menggunakan Data Mentah**\n",
    "\n",
    "       Menentukan signifikansi statistik perbedaan konversi antar kelompok menggunakan data mentah. Buat kesimpulan dan asumsinya."
   ]
  },
  {
   "cell_type": "code",
   "execution_count": 47,
   "metadata": {},
   "outputs": [],
   "source": [
    "# Menentukan signifikansi statistik perbedaan konversi antar kelompok\n",
    "ordersByUsersA = analisa_orders[analisa_orders['group']=='A'].groupby('visitor_id', as_index=False).agg({'transaction_id' : pd.Series.nunique})\n",
    "ordersByUsersA.columns = ['visitor_id', 'orders_A']\n",
    "\n",
    "ordersByUsersB = analisa_orders[analisa_orders['group']=='B'].groupby('visitor_id', as_index=False).agg({'transaction_id' : pd.Series.nunique})\n",
    "ordersByUsersB.columns = ['visitor_id', 'orders_B']"
   ]
  },
  {
   "cell_type": "code",
   "execution_count": 48,
   "metadata": {},
   "outputs": [],
   "source": [
    "\n",
    "# Membuat masing-masing sample untuk melihat perbandingan signifikansi\n",
    "sampleA = pd.concat(\n",
    "    [\n",
    "        ordersByUsersA['orders_A'],\n",
    "        pd.Series(\n",
    "            0,\n",
    "            index=np.arange(\n",
    "                analisa_visits[analisa_visits['group'] == 'A']['visits'].sum()\n",
    "                - len(ordersByUsersA['orders_A'])\n",
    "            ),\n",
    "            name='orders_A',\n",
    "        ),\n",
    "    ],\n",
    "    axis=0,\n",
    ")\n",
    "sampleB = pd.concat(\n",
    "    [\n",
    "        ordersByUsersB['orders_B'],\n",
    "        pd.Series(\n",
    "            0,\n",
    "            index=np.arange(\n",
    "                analisa_visits[analisa_visits['group'] == 'B']['visits'].sum()\n",
    "                - len(ordersByUsersB['orders_B'])\n",
    "            ),\n",
    "            name='orders_B',\n",
    "        ),\n",
    "    ],\n",
    "    axis=0,\n",
    ")"
   ]
  },
  {
   "cell_type": "code",
   "execution_count": 49,
   "metadata": {},
   "outputs": [
    {
     "name": "stdout",
     "output_type": "stream",
     "text": [
      "0.01679\n",
      "0.138\n"
     ]
    }
   ],
   "source": [
    "# Menghitung signifikansi statistik dari perbedaan konversi dengan menerapkan pengujian Mann-Whitney. \n",
    "print('{0:.5f}'.format(st.mannwhitneyu(sampleA, sampleB)[1]))\n",
    "print('{0:.3f}'.format(sampleB.mean() / sampleA.mean() - 1))"
   ]
  },
  {
   "cell_type": "markdown",
   "metadata": {},
   "source": [
    "**Kesimpulan Sementara**\n",
    "\n",
    "<span style=\"color:blue\">Nilai p kurang dari tingkat signifikansi umum 0.05, yang menunjukkan bahwa terdapat perbedaan signifikan antara sampleA dan sampleB. Dalam konteks pengujian Mann-Whitney, ini dapat diartikan sebagai adanya perbedaan yang signifikan dalam distribusi antara dua kelompok.</span>"
   ]
  },
  {
   "cell_type": "markdown",
   "metadata": {},
   "source": [
    "**3.2.12. Temukan Signifikansi Statistik Perbedaan Ukuran Pesanan Rata-Rata antar Kelompok Menggunakan Data Mentah**\n",
    "\n",
    "       Mencari signifikansi statistik perbedaan ukuran pesanan rata-rata antar kelompok menggunakan data mentah. Buat kesimpulan dan asumsinya."
   ]
  },
  {
   "cell_type": "code",
   "execution_count": 50,
   "metadata": {},
   "outputs": [
    {
     "name": "stdout",
     "output_type": "stream",
     "text": [
      "0.692\n",
      "0.252\n"
     ]
    }
   ],
   "source": [
    "# Mencari statistik perbedaan ukuran pesanan rata-rata antar kelompok menggunakan data mentah\n",
    "print('{0:.3f}'.format(st.mannwhitneyu(analisa_orders[analisa_orders['group']=='A']['revenue'], analisa_orders[analisa_orders['group']=='B']['revenue'])[1]))\n",
    "print('{0:.3f}'.format(analisa_orders[analisa_orders['group']=='B']['revenue'].mean()/analisa_orders[analisa_orders['group']=='A']['revenue'].mean()-1))"
   ]
  },
  {
   "cell_type": "markdown",
   "metadata": {},
   "source": [
    "**Kesimpulan Sementara**\n",
    "\n",
    "<span style=\"color:blue\">Nilai P lebih besar dari 0.05 pada umumnya. Ini menunjukan bahwa tidak ada perbedaan secara signifikan secara statistik untuk ukuran pesanan rata-rata antar kelompok dengan menggunakan data mentah.</span>"
   ]
  },
  {
   "cell_type": "markdown",
   "metadata": {},
   "source": [
    "**3.2.13. Temukan Signifikansi Statistik Perbedaan Konversi antar Kelompok Menggunakan Data yang Telah Difilter**\n",
    "\n",
    "       Menemukan signifikansi statistik perbedaan konversi antar kelompok menggunakan data yang telah difilter. Buat kesimpulan dan asumsinya."
   ]
  },
  {
   "cell_type": "code",
   "execution_count": 51,
   "metadata": {},
   "outputs": [],
   "source": [
    "\n",
    "usersWithManyOrders = pd.concat(\n",
    "    [\n",
    "        ordersByUsersA[ordersByUsersA['orders_A'] > 2]['visitor_id'],\n",
    "        ordersByUsersB[ordersByUsersB['orders_B'] > 2]['visitor_id'],\n",
    "    ],\n",
    "    axis=0,\n",
    ")\n",
    "\n",
    "usersWithExpensiveOrders = analisa_orders[analisa_orders['revenue'] > 10000]['visitor_id']\n",
    "abnormalUsers = (\n",
    "    pd.concat([usersWithManyOrders, usersWithExpensiveOrders], axis=0)\n",
    "    .drop_duplicates()\n",
    "    .sort_values()\n",
    ")"
   ]
  },
  {
   "cell_type": "code",
   "execution_count": 52,
   "metadata": {},
   "outputs": [],
   "source": [
    "# Membuat data mentah yang akan difilter\n",
    "sampleAFiltered = pd.concat([ordersByUsersA[np.logical_not(ordersByUsersA['visitor_id'].isin(abnormalUsers))]['orders_A'],pd.Series(0, index=np.arange(analisa_visits[analisa_visits['group']=='A']['visits'].sum() - len(ordersByUsersA['orders_A'])),name='orders_A')],axis=0)\n",
    "\n",
    "sampleBFiltered = pd.concat([ordersByUsersB[np.logical_not(ordersByUsersB['visitor_id'].isin(abnormalUsers))]['orders_B'],pd.Series(0, index=np.arange(analisa_visits[analisa_visits['group']=='B']['visits'].sum() - len(ordersByUsersB['orders_B'])),name='orders_B')],axis=0)"
   ]
  },
  {
   "cell_type": "code",
   "execution_count": 53,
   "metadata": {},
   "outputs": [
    {
     "name": "stdout",
     "output_type": "stream",
     "text": [
      "0.01254\n",
      "0.168\n"
     ]
    }
   ],
   "source": [
    "print(\"{0:.5f}\".format(st.mannwhitneyu(sampleAFiltered, sampleBFiltered)[1]))\n",
    "print(\"{0:.3f}\".format(sampleBFiltered.mean()/sampleAFiltered.mean()-1))"
   ]
  },
  {
   "cell_type": "markdown",
   "metadata": {},
   "source": [
    "**Kesimpulan Sementara**\n",
    "\n",
    "<span style=\"color:blue\">Nilai p kurang dari tingkat signifikansi umum 0.05, yang menunjukkan bahwa terdapat perbedaan yang signifikan dalam distribusi antara kelompok A dan B setelah menghapus pengguna yang dianggap abnormal.</span>"
   ]
  },
  {
   "cell_type": "markdown",
   "metadata": {},
   "source": [
    "**3.2.14. Temukan Signifikansi Statistik Serbedaan Ukuran Pesanan Rata-Rata antar Kelompok Menggunakan Data yang Telah Difilter.**\n",
    "\n",
    "       Menemukan signifikansi statistik perbedaan ukuran pesanan rata-rata antar kelompok menggunakan data yang telah difilter. Buat kesimpulan dan asumsinya."
   ]
  },
  {
   "cell_type": "code",
   "execution_count": 54,
   "metadata": {},
   "outputs": [
    {
     "name": "stdout",
     "output_type": "stream",
     "text": [
      "18    199603092\n",
      "23    237748145\n",
      "37    249864742\n",
      "68    457167155\n",
      "68    611059232\n",
      "Name: visitor_id, dtype: int64\n",
      "0.670\n",
      "-0.055\n"
     ]
    }
   ],
   "source": [
    "# Menemukan signifikansi statistik perbedaan ukuran pesanan rata-rata antar kelompok menggunakan data yang telah difilter\n",
    "print(abnormalUsers.head(5))\n",
    "\n",
    "print('{0:.3f}'.format(st.mannwhitneyu(\n",
    "    analisa_orders[np.logical_and(\n",
    "        analisa_orders['group']=='A',\n",
    "        np.logical_not(analisa_orders['visitor_id'].isin(abnormalUsers)))]['revenue'],\n",
    "    analisa_orders[np.logical_and(\n",
    "        analisa_orders['group']=='B',\n",
    "        np.logical_not(analisa_orders['visitor_id'].isin(abnormalUsers)))]['revenue'])[1]))\n",
    "\n",
    "print('{0:.3f}'.format(\n",
    "    analisa_orders[np.logical_and(analisa_orders['group']=='B',np.logical_not(analisa_orders['visitor_id'].isin(abnormalUsers)))]['revenue'].mean()/\n",
    "    analisa_orders[np.logical_and(\n",
    "        analisa_orders['group']=='A',\n",
    "        np.logical_not(analisa_orders['visitor_id'].isin(abnormalUsers)))]['revenue'].mean() - 1))"
   ]
  },
  {
   "cell_type": "markdown",
   "metadata": {},
   "source": [
    "**Kesimpulan Sementara**\n",
    "\n",
    "<span style=\"color:blue\">Nilai p `0.67`  lebih besar dari tingkat signifikansi umum `0.05`, yang menunjukkan bahwa tidak ada perbedaan signifikan dalam ukuran pesanan rata-rata antara kelompok A dan B setelah menghapus pengguna yang dianggap abnormal. Nilai `-0.055` menunjukkan bahwa kelompok B memiliki ukuran pesanan rata-rata sekitar 5.5% lebih rendah daripada kelompok A setelah menghilangkan pengguna yang dianggap abnormal.</span>"
   ]
  },
  {
   "cell_type": "markdown",
   "metadata": {},
   "source": [
    "**3.2.15. Keputusan Berdasarkan Hasil Pengujian**\n",
    "\n",
    "   **Perbedaan Konversi Menggunakan Data yang Diurut dari Sub Bab (3.2.11 hingga 3.2.14):**\n",
    "    \n",
    "   **1. Perbedaan Konversi Menggunakan Data Mentah:**\n",
    "   \n",
    "   - Nilai p: 0.01679\n",
    "   - Perbandingan rata-rata: 0.138\n",
    "   - Keputusan: Terdapat perbedaan yang signifikan dalam konversi antara kelompok A dan B.\n",
    "   - Perbedaan Ukuran Pesanan Rata-Rata Menggunakan Data Mentah\n",
    "   \n",
    "       \n",
    "   **2. Perbedaan Ukuran Pesanan Rata-Rata Menggunakan Data Mentah:**\n",
    "   \n",
    "   - Nilai p: 0.692\n",
    "   - Perbandingan rata-rata: 0.252\n",
    "   - Keputusan: Tidak terdapat perbedaan yang signifikan dalam ukuran pesanan rata-rata antara kelompok A dan B.\n",
    "   \n",
    "       \n",
    "   **3. Perbedaan Konversi Menggunakan Data yang Telah Difilter:**\n",
    "   - Nilai p: 0.01254\n",
    "   - Perbandingan rata-rata: 0.168\n",
    "   - Keputusan: Terdapat perbedaan yang signifikan dalam konversi antara kelompok A dan B setelah menghapus pengguna yang dianggap abnormal.\n",
    "   \n",
    "       \n",
    "   **4. Perbedaan Ukuran Pesanan Rata-Rata Menggunakan Data yang Telah Difilter:**\n",
    "   - Nilai p: 0.670\n",
    "   - Perbandingan rata-rata: -0.055\n",
    "   - Keputusan: Tidak terdapat perbedaan yang signifikan dalam ukuran pesanan rata-rata antara kelompok A dan B setelah menghapus - pengguna yang dianggap abnormal.\n",
    "       \n",
    "******************************************************************************************************************************\n",
    "<span style=\"color:red\">**Maka keputusan yang diambil**</span>\n",
    "\n",
    "<span style=\"color:blue\">Menghentikan pengujian, serta mempertimbangkan salah satu kelompok sebagai pemimpin</span>\n"
   ]
  },
  {
   "cell_type": "markdown",
   "metadata": {},
   "source": [
    "## Kesimpulan Umum\n",
    "\n",
    "<span style=\"color:blue\">* **Dataset `hipothesis` perlu diperbaiki agar mudah untuk melihat kondisi nilai hypothesis RICE yang dimiliki**</span>\n",
    "\n",
    "<span style=\"color:blue\">* **Untuk dataset `analisa_orders`, terdapat sedikit perubahan untuk nama kolom juga untuk tipe data yang disesuaikan.**</span>\n",
    "\n",
    "<span style=\"color:blue\">* **Untuk `analisa_visits`, hanya terdapat kolom date yang perlu diubah dengan tipe data yang sesuai.**</span>\n",
    "\n",
    "*******************************************************************************************************************************\n",
    "\n"
   ]
  },
  {
   "cell_type": "markdown",
   "metadata": {},
   "source": [
    "**Berikut penerapkan Framework ICE secara menurun:**\n",
    "\n",
    "| rice_hypothesis | ICE       |\n",
    "|-----------------|-----------|\n",
    "| 1. 8 Launch a promotion that gives users discounts ... | 16.200000 |\n",
    "| 2. 0 Add two new channels for attracting traffic. T... | 13.333333 |\n",
    "| 3. 7 Add a subscription form to all the main pages.... | 11.200000 |\n",
    "| 4. 6 Show banners with current offers and sales on ... | 8.000000  |\n",
    "| 5. 2 Add product recommendation blocks to the store... | 7.000000  |\n",
    "| 6. 1 Launch your own delivery service. This will sh... | 2.000000  |\n",
    "| 7. Add a customer review page. This will increase... | 1.333333  |\n",
    "| 8. 3 Change the category structure. This will incre... | 1.125000  |\n",
    "| 9. 4 Change the background color on the main page. ... | 1.000000  |"
   ]
  },
  {
   "cell_type": "markdown",
   "metadata": {},
   "source": [
    "**Berikut penerapkan Framework RICE secara menurun:**\n",
    "\n",
    "| rice_hypothesis | RICE    |\n",
    "|-----------------|---------|\n",
    "| 1. 7 Add a subscription form to all the main pages.... | 112.0    |\n",
    "| 2. 2 Add product recommendation blocks to the store... | 56.0     |\n",
    "| 3. 0 Add two new channels for attracting traffic. T... | 40.0     |\n",
    "| 4. 6 Show banners with current offers and sales on ... | 40.0     |\n",
    "| 5. 8 Launch a promotion that gives users discounts ... | 16.2     |\n",
    "| 6. 3 Change the category structure. This will incre... | 9.0      |\n",
    "| 7. 1 Launch your own delivery service. This will sh... | 4.0      |\n",
    "| 8. 5 Add a customer review page. This will increase... | 4.0      |\n",
    "| 9. 4 Change the background color on the main page. ... | 3.0      |"
   ]
  },
  {
   "cell_type": "markdown",
   "metadata": {},
   "source": [
    "**Top 3 Prioritas (Dengan Skor Tinggi):**\n",
    "\n",
    "* Launch a promotion that gives users discounts... (16.2): Hipotesis ini memiliki dampak dan keyakinan yang tinggi, dengan usaha yang relatif rendah.\n",
    "* Add two new channels for attracting traffic... (13.33): Memiliki dampak yang cukup tinggi dengan keyakinan yang baik, dan usaha yang relatif terjangkau.\n",
    "* Add a subscription form to all the main pages... (11.2): Memiliki dampak yang tinggi dengan keyakinan yang baik, dan usaha yang cukup terjangkau.\n",
    "\n",
    "**Bottom 3 Prioritas (Dengan Skor Rendah):**\n",
    "\n",
    "* Change the background color on the main page... (1.0): Memiliki skor rendah, mungkin karena dampak dan keyakinan yang rendah.\n",
    "* Add a customer review page... (1.33): Memiliki skor yang sedikit lebih tinggi tetapi masih relatif rendah.\n",
    "* Change the category structure... (1.13): Dengan skor yang rendah, mungkin karena dampak dan keyakinan yang rendah.\n",
    "\n",
    "<span style=\"color:blue\">**Interpretasi Hasil RICE:**</span>\n",
    "\n",
    "**Top 3 Prioritas (Dengan Skor Tinggi):**\n",
    "\n",
    "* Add a subscription form to all the main pages... (112.0): Hipotesis ini memiliki dampak, keyakinan, dan jangkauan yang tinggi, tetapi usaha yang relatif rendah.\n",
    "* Add product recommendation blocks to the store... (56.0): Memiliki dampak dan jangkauan yang tinggi, dengan usaha yang relatif terjangkau.\n",
    "* Add two new channels for attracting traffic... (40.0): Memiliki dampak dan jangkauan yang baik, dengan usaha yang relatif terjangkau.\n",
    "\n",
    "**Bottom 3 Prioritas (Dengan Skor Rendah):**\n",
    "\n",
    "* Change the background color on the main page... (3.0): Memiliki skor rendah, mungkin karena dampak dan jangkauan yang rendah.\n",
    "* Launch your own delivery service... (4.0): Memiliki skor yang sedikit lebih tinggi tetapi masih relatif rendah.\n",
    "* Add a customer review page... (4.0): Memiliki skor yang sama dengan hipotesis sebelumnya, mungkin karena dampak dan jangkauan yang rendah."
   ]
  },
  {
   "cell_type": "markdown",
   "metadata": {},
   "source": [
    "**Perbandingan: Terdapat perubahan prioritas yang cukup signifikan antara ICE dan RICE.**\n",
    "\n",
    "* Hipotesis `Add a subscription form to all the main pages. This will help you compile a mailing list` melonjak ke posisi teratas dengan RICE karena memiliki jangkauan yang tinggi.\n",
    "* Hipotesis `Launch a promotion that gives users discounts on their birthdays` tetap tinggi, tetapi peringkatnya menurun karena RICE mempertimbangkan faktor jangkauan.\n",
    "* Prioritas hipotesis lainnya dapat juga mengalami perubahan, terutama jika jangkauan memainkan peran penting dalam konteks proyek atau pada strategi bisnis."
   ]
  },
  {
   "cell_type": "markdown",
   "metadata": {},
   "source": [
    "* Untuk segment A(cumulativeRevenueA) terlihat lebih rendah dari pada segment B(cumulativeRevenueB). Terlihat bahwa segment B lebih konsisten untuk naik dari pada segment A.\n",
    "* Di beberapa titik terdapat segment yang meningkat secara drastis dan juga menurun cukup drastis. Kita belum mengetahui apakah terdapat outlier atau tidak untuk hasil yang divisualisasikan.\n",
    "* Dari segment yang kita set harian yaitu 2019-08-01 hingga 2019-08-31, kita bisa lihat bahwa diawal hari, segment B lebih rendah dari pada segment A. Namun peningkatan yang cukup sederhana dari segment B membuat segment tersebut cukup konsisten dan lebih tinggi dari pada segment A.\n",
    "* Secara konversi untuk di awal, mengalami kenaikan sedikit tinggi. Di pertengahan, segment konversi tersebut tidak lah tinggi dan tidak lah rendah.\n",
    "* Bisa kita lihat bahwa rasio kunjungan setiap hari pada segment A memiliki awal yang cukup tinggi namun mengalami penurunan secara drastis setiap harinya. Pada segment B mengalami kenaikan dan cukup fluktatif untuk beberapa hari di awal. Kenaikan ini cukup signifikan dan semkakin ke depan segment A tidak bisa sama sekali tidak bisa menggunguli segment B.\n",
    "* Dari scatter plot yang ditampiikan, terdapat banyak nilai outliers serta beberapa distribusi yang tidak normal. Hal ini bisa saja disebabkan oleh nilai yang anomali atau kesalahan pada input data."
   ]
  },
  {
   "cell_type": "markdown",
   "metadata": {},
   "source": [
    "**Bagian: Hitung Persentil ke-95 dan ke-99 untuk Jumlah Pesanan Setiap Pengguna**\n",
    "\n",
    "1. **Persentil ke-95**: <span style=\"color:blue\">Nilai 2 mungkin menunjukkan bahwa 95% dari jumlah pesanan per pengguna berada di level 2 atau kurang. Dengan kata lain, sebagian besar pengguna memiliki jumlah pesanan yang relatif rendah.</span>\n",
    "2. **Persentil ke-99**: <span style=\"color:blue\">Nilai 4 mungkin menunjukkan bahwa 99% dari jumlah pesanan per pengguna berada di level 4 atau kurang. Ini menunjukkan bahwa hanya sebagian kecil pengguna (1% teratas) yang memiliki jumlah pesanan yang lebih tinggi, dan nilai 4 dapat dianggap sebagai batas atas yang mewakili titik anomali atau nilai yang signifikan.</span>"
   ]
  },
  {
   "cell_type": "markdown",
   "metadata": {},
   "source": [
    "* Jumlah harga untuk scatter chart, terdapat hanya 1 yang berada di atas 2.500. Banyak yang membeli dengan harga di bawah 2.500. Serta terdapat sebuah outlier di angka 20.000"
   ]
  },
  {
   "cell_type": "markdown",
   "metadata": {},
   "source": [
    "**Bagian: Hitung Persentil ke-95 dan ke-99 untuk Harga Pesanan**\n",
    "\n",
    "1. **Persentil ke-95**: <span style=\"color:blue\">Nilai 435.54 menunjukkan bahwa 95% dari data pendapatan pesanan per pengguna berada di bawah atau sama dengan 435.54. Dengan kata lain, sebagian besar transaksi memiliki pendapatan kurang dari 435.54.</span>\n",
    "2. **Persentil ke-99**: <span style=\"color:blue\">Nilai 900.904 menunjukkan bahwa 99% dari data pendapatan pesanan per pengguna berada di bawah atau sama dengan 900.904. Ini menunjukkan bahwa sebagian besar transaksi, 99% dari total, memiliki pendapatan kurang dari 900.904.</span>\n",
    "3. **Bisa dipastikan dengan batas ke-99. terdapat beberapa nilai anomali.**"
   ]
  },
  {
   "cell_type": "markdown",
   "metadata": {},
   "source": [
    "**Untuk: Temukan Signifikansi Statistik Perbedaan Konversi antar Kelompok Menggunakan Data Mentah**\n",
    "\n",
    "* Nilai p kurang dari tingkat signifikansi umum 0.05, yang menunjukkan bahwa terdapat perbedaan signifikan antara sampleA dan sampleB. Dalam konteks pengujian Mann-Whitney, ini dapat diartikan sebagai adanya perbedaan yang signifikan dalam distribusi antara dua kelompok.\n",
    "\n",
    "**Untuk: Temukan Signifikansi Statistik Perbedaan Ukuran Pesanan Rata-Rata antar Kelompok Menggunakan Data Mentah**\n",
    "\n",
    "* Nilai P lebih besar dari 0.05 pada umumnya. Ini menunjukan bahwa tidak ada perbedaan secara signifikan secara statistik untuk ukuran pesanan rata-rata antar kelompok dengan menggunakan data mentah.\n",
    "\n",
    "**Untuk: Temukan Signifikansi Statistik Perbedaan Konversi antar Kelompok Menggunakan Data yang Telah Difilter**\n",
    "\n",
    "* Nilai p kurang dari tingkat signifikansi umum 0.05, yang menunjukkan bahwa terdapat perbedaan yang signifikan dalam distribusi antara kelompok A dan B setelah menghapus pengguna yang dianggap abnormal.\n",
    "\n",
    "**Untuk: Temukan Signifikansi Statistik Serbedaan Ukuran Pesanan Rata-Rata antar Kelompok Menggunakan Data yang Telah Difilter**\n",
    "\n",
    "* Nilai p `0.67` lebih besar dari tingkat signifikansi umum `0.05` , yang menunjukkan bahwa tidak ada perbedaan signifikan dalam ukuran pesanan rata-rata antara kelompok A dan B setelah menghapus pengguna yang dianggap abnormal. Nilai `-0.055`  menunjukkan bahwa kelompok B memiliki ukuran pesanan rata-rata sekitar 5.5% lebih rendah daripada kelompok A setelah menghilangkan pengguna yang dianggap abnormal."
   ]
  },
  {
   "cell_type": "markdown",
   "metadata": {},
   "source": [
    "**Insight Analysis**\n",
    "\n",
    "Berdasarkan hasil analisis yang telah dilakukan, beberapa insight yang dapat diambil dari eksperimen ini dapat mencakup:\n",
    "\n",
    "**1. Perbedaan Konversi:**\n",
    "\n",
    "* Terdapat perbedaan signifikan dalam tingkat konversi antara kelompok A dan B setelah menghapus pengguna yang dianggap abnormal. Hal ini dapat menjadi insight penting, terutama jika konversi dianggap sebagai metrik kunci atau tujuan utama dari eksperimen ini.\n",
    "\n",
    "**2. Ukuran Pesanan Rata-Rata:**\n",
    "\n",
    "* Tidak terdapat perbedaan yang signifikan dalam ukuran pesanan rata-rata antara kelompok A dan B setelah menghapus pengguna yang dianggap abnormal. Meskipun terdapat perbedaan arah, nilai p yang tinggi menunjukkan bahwa perbedaan ini mungkin terjadi secara kebetulan.\n",
    "\n",
    "**3. Pengaruh Pengguna Abnormal:**\n",
    "\n",
    "* Pembersihan data dari pengguna abnormal dapat memengaruhi hasil eksperimen. Ini menggarisbawahi pentingnya identifikasi dan penanganan outlier atau anomali dalam analisis data.\n",
    "\n",
    "**4. Pertimbangan Bisnis:**\n",
    "\n",
    "* Keputusan akhir harus didasarkan pada pertimbangan bisnis secara menyeluruh. Jika konversi dianggap sebagai faktor kunci dalam keputusan bisnis, hasil yang menunjukkan perbedaan yang signifikan dapat menjadi dasar untuk mengambil keputusan.\n",
    "\n",
    "**5. Pertimbangan Lebih Lanjut:**\n",
    "\n",
    "* Analisis ini dapat menjadi titik awal untuk pertimbangan lebih lanjut. Misalnya, eksplorasi lebih lanjut terhadap segmentasi pengguna atau analisis cohort dapat memberikan wawasan tambahan.\n",
    "\n",
    "**6. Sumber Daya dan Efisiensi:**\n",
    "\n",
    "* Pertimbangkan efisiensi sumber daya. Jika perbedaan yang signifikan telah ditemukan dan menghentikan pengujian memberikan nilai tambah yang signifikan, hal ini dapat dianggap sebagai keputusan yang efisien.\n",
    "\n",
    "\n",
    "**Kesimpulan:**\n",
    "\n",
    "* **<span style=\"color:blue\">Eksperimen ini memberikan wawasan terkait konversi, dan keputusan selanjutnya harus disesuaikan dengan konteks bisnis dan tujuan eksperimen.</span>**\n",
    "* **<span style=\"color:blue\">Selalu disarankan untuk berkolaborasi dengan tim dan pemangku kepentingan terkait dalam membuat keputusan bisnis berdasarkan hasil analisis.</span>**\n",
    "* **<span style=\"color:blue\">Sumber daya, tujuan eksperimen, dan konteks bisnis harus menjadi pemandu utama dalam merumuskan kesimpulan dan mengambil tindakan selanjutnya.</span>**"
   ]
  }
 ],
 "metadata": {
  "kernelspec": {
   "display_name": "Python 3 (ipykernel)",
   "language": "python",
   "name": "python3"
  },
  "language_info": {
   "codemirror_mode": {
    "name": "ipython",
    "version": 3
   },
   "file_extension": ".py",
   "mimetype": "text/x-python",
   "name": "python",
   "nbconvert_exporter": "python",
   "pygments_lexer": "ipython3",
   "version": "3.9.19"
  },
  "toc": {
   "base_numbering": 1,
   "nav_menu": {},
   "number_sections": true,
   "sideBar": true,
   "skip_h1_title": true,
   "title_cell": "Table of Contents",
   "title_sidebar": "Contents",
   "toc_cell": false,
   "toc_position": {},
   "toc_section_display": true,
   "toc_window_display": false
  }
 },
 "nbformat": 4,
 "nbformat_minor": 2
}
